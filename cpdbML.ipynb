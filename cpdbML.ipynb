{
 "cells": [
  {
   "cell_type": "code",
   "execution_count": 1,
   "metadata": {
    "id": "3tBX2PrjSzTQ"
   },
   "outputs": [],
   "source": [
    "%matplotlib inline\n",
    "from sqlalchemy import create_engine\n",
    "import pandas as pd\n",
    "import matplotlib.pyplot as plt\n",
    "import numpy as np\n",
    "import random"
   ]
  },
  {
   "cell_type": "code",
   "execution_count": 2,
   "outputs": [],
   "source": [
    "from sklearn import preprocessing\n",
    "from sklearn import linear_model\n",
    "from sklearn import kernel_ridge\n",
    "from sklearn import model_selection\n",
    "from sklearn import metrics\n",
    "from sklearn import pipeline"
   ],
   "metadata": {
    "id": "tIPNLP_PSzTS"
   }
  },
  {
   "cell_type": "markdown",
   "metadata": {
    "id": "wOxIqVNjSzTT"
   },
   "source": [
    "# Create a class to create pandas dataframe from SQL queries"
   ]
  },
  {
   "cell_type": "code",
   "execution_count": 3,
   "metadata": {
    "id": "pJHMpSicSzTV"
   },
   "outputs": [],
   "source": [
    "#Read data from JDBC server\n",
    "class DB:\n",
    "    def __init__(self):\n",
    "        self.tables = None\n",
    "        self.df = None\n",
    "        self.point = None\n",
    "        self.POSTGRES_HOST = \"codd03.research.northwestern.edu\"\n",
    "        self.POSTGRES_PORT = 5432\n",
    "        self.POSTGRES_DBNAME = 'cpdb'\n",
    "        self.POSTGRES_USERNAME = 'cpdb_student'\n",
    "        self.POSTGRES_PASSWORD = 'DataSci4Lyfe'\n",
    "        self.postgres_str = ('postgresql://{username}:{password}@{host}:{port}/{dbname}'.format(username=self.POSTGRES_USERNAME,\n",
    "                                                                                           password=self.POSTGRES_PASSWORD,\n",
    "                                                                                           host=self.POSTGRES_HOST,\n",
    "                                                                                           port=self.POSTGRES_PORT,\n",
    "                                                                                           dbname=self.POSTGRES_DBNAME))\n",
    "        self.engine = create_engine(self.postgres_str)\n",
    "\n",
    "    def query(self, queryCommand):\n",
    "            self.point = self.engine.execute(queryCommand)\n",
    "            self.df = None\n",
    "            try: self.df = pd.DataFrame([*self.point.mappings()])\n",
    "            except Exception as msg:\n",
    "                if msg == 'This result object does not return rows. It has been closed automatically.':pass\n",
    "            return self.df\n",
    "\n",
    "    def get_tables_from_commands(self, commands=None):\n",
    "        self.tables = {}\n",
    "        for command in commands:\n",
    "            try:\n",
    "                df = self.query(command)\n",
    "                if df is not None:\n",
    "                    self.tables[f't{len(self.tables.keys())}'] = {'frame': df, 'sql': command}\n",
    "            except:\n",
    "                pass\n",
    "        return self.tables\n",
    "\n"
   ]
  },
  {
   "cell_type": "code",
   "execution_count": 4,
   "metadata": {
    "id": "PxWPQhN6SzTX",
    "outputId": "c3495fd8-d81c-4156-eeb2-e4f19e8ac7a0"
   },
   "outputs": [
    {
     "name": "stdout",
     "output_type": "stream",
     "text": [
      "Passed!\n"
     ]
    }
   ],
   "source": [
    "# test it out\n",
    "\n",
    "def test():\n",
    "    obj_test = DB()\n",
    "    t = obj_test.get_tables_from_commands\n",
    "\n",
    "    query1 = '''\n",
    "    DROP TABLE if exists area_ids;\n",
    "    CREATE TEMP TABLE area_ids AS\n",
    "        ( SELECT id, name FROM data_area\n",
    "          WHERE area_type='police-districts');\n",
    "    SELECT * FROM area_ids;\n",
    "\n",
    "    -- Determining civilian population of each PD\n",
    "    DROP TABLE IF EXISTS popul_by_pd;\n",
    "    CREATE TEMP TABLE popul_by_pd AS\n",
    "        ( SELECT area_id, SUM(\"count\") population FROM data_racepopulation\n",
    "          WHERE area_id IN (SELECT id FROM area_ids)\n",
    "          group by area_id);\n",
    "    select * from popul_by_pd;\n",
    "    '''\n",
    "\n",
    "    commands = query1.split(';')\n",
    "    tables = t(commands)\n",
    "    if len(tables.keys()) == 2: print(\"Passed!\")\n",
    "    else: print(\"An error occurred\")\n",
    "\n",
    "    del obj_test\n",
    "\n",
    "test()"
   ]
  },
  {
   "cell_type": "markdown",
   "source": [
    "<br>"
   ],
   "metadata": {
    "collapsed": false,
    "id": "Qnt3vzeiSzTZ"
   }
  },
  {
   "cell_type": "markdown",
   "metadata": {
    "id": "5d409JU1SzTZ"
   },
   "source": [
    "### Preprocessing helpers"
   ]
  },
  {
   "cell_type": "code",
   "execution_count": 5,
   "outputs": [],
   "source": [
    "def beat_to_side(df):\n",
    "    pass\n",
    "\n"
   ],
   "metadata": {
    "id": "PZOaFx3ASzTZ"
   }
  },
  {
   "cell_type": "code",
   "execution_count": 6,
   "metadata": {
    "id": "juNkcJKXSzTa"
   },
   "outputs": [],
   "source": [
    "# keep columns which have more than 85% missing values\n",
    "def remove_missing(df):\n",
    "    columns = list(df1.columns)\n",
    "    print(f\"Originallly {len(columns)} columns\")\n",
    "    missing = pd.DataFrame(df1.isnull().sum())\n",
    "    missing.reset_index(inplace=True)\n",
    "    missing = missing.rename(columns = {'index':'columns', 0: 'null count'})\n",
    "    missing[\"null count\"] = missing[\"null count\"].apply(lambda x: x*100/len(df1))\n",
    "    remaining_columns = missing[missing[\"null count\"] < 85.0][\"columns\"]\n",
    "    print(f\"Dropped to {len(remaining_columns)} columns\")\n",
    "    print(list(remaining_columns))\n",
    "    return list(remaining_columns)"
   ]
  },
  {
   "cell_type": "code",
   "execution_count": 7,
   "metadata": {
    "id": "jwq1fpygSzTa"
   },
   "outputs": [],
   "source": [
    "scalerST = preprocessing.StandardScaler()\n",
    "scalerRB = preprocessing.RobustScaler()\n",
    "scalers = [('std', scalerST), ('rb', scalerRB)]"
   ]
  },
  {
   "cell_type": "markdown",
   "source": [
    "### model selection helpers"
   ],
   "metadata": {
    "collapsed": false,
    "id": "C2BGgo6nSzTb"
   }
  },
  {
   "cell_type": "code",
   "execution_count": 8,
   "outputs": [],
   "source": [
    "# linear models\n",
    "\n",
    "regrLinear = linear_model.LinearRegression()\n",
    "regrRidge = linear_model.Ridge()\n",
    "regrGamma = linear_model.GammaRegressor()\n",
    "regrSGD = linear_model.SGDRegressor()\n",
    "\n"
   ],
   "metadata": {
    "id": "L5g8SC8QSzTb"
   }
  },
  {
   "cell_type": "code",
   "execution_count": 9,
   "outputs": [],
   "source": [
    "# kernal ridge\n",
    "regrKernal = kernel_ridge.KernelRidge()\n"
   ],
   "metadata": {
    "id": "STkxoh1eSzTb"
   }
  },
  {
   "cell_type": "markdown",
   "source": [
    "<br>"
   ],
   "metadata": {
    "collapsed": false,
    "id": "0dvEo-uFSzTc"
   }
  },
  {
   "cell_type": "markdown",
   "source": [
    "# Get all required tables"
   ],
   "metadata": {
    "collapsed": false,
    "id": "lqqp0FeDSzTc"
   }
  },
  {
   "cell_type": "code",
   "execution_count": 10,
   "outputs": [],
   "source": [
    "def table_from_file(filename):\n",
    "    obj = DB()\n",
    "    t = obj.get_tables_from_commands\n",
    "    with open(filename, 'r') as f:\n",
    "        sqlFile = f.read()\n",
    "    commands_raw = sqlFile.split(';')\n",
    "    commands = []\n",
    "    for command in commands_raw:\n",
    "        q = f'''\n",
    "        {command}\n",
    "        '''\n",
    "        commands.append(q)\n",
    "    tables = t(commands)\n",
    "    total = len(tables.keys())\n",
    "    print(total, \"tables received\")\n",
    "    del obj\n",
    "    return (total, tables)"
   ],
   "metadata": {
    "id": "S_r3yhmUSzTc"
   }
  },
  {
   "cell_type": "markdown",
   "source": [
    "# console0.sql\n",
    "This is just used for converting beats to their respective city sides"
   ],
   "metadata": {
    "collapsed": false,
    "id": "prsG01DBSzTc"
   }
  },
  {
   "cell_type": "code",
   "execution_count": 11,
   "outputs": [
    {
     "name": "stdout",
     "output_type": "stream",
     "text": [
      "1 tables received\n"
     ]
    },
    {
     "data": {
      "text/plain": "   name   side\n0  3100  north\n1  1655  north",
      "text/html": "<div>\n<style scoped>\n    .dataframe tbody tr th:only-of-type {\n        vertical-align: middle;\n    }\n\n    .dataframe tbody tr th {\n        vertical-align: top;\n    }\n\n    .dataframe thead th {\n        text-align: right;\n    }\n</style>\n<table border=\"1\" class=\"dataframe\">\n  <thead>\n    <tr style=\"text-align: right;\">\n      <th></th>\n      <th>name</th>\n      <th>side</th>\n    </tr>\n  </thead>\n  <tbody>\n    <tr>\n      <th>0</th>\n      <td>3100</td>\n      <td>north</td>\n    </tr>\n    <tr>\n      <th>1</th>\n      <td>1655</td>\n      <td>north</td>\n    </tr>\n  </tbody>\n</table>\n</div>"
     },
     "execution_count": 11,
     "metadata": {},
     "output_type": "execute_result"
    }
   ],
   "source": [
    "filename = 'console0.sql'\n",
    "_, table = table_from_file(filename)\n",
    "table['t0']['frame'].head(2)"
   ],
   "metadata": {
    "id": "wKj1ID1ISzTc",
    "outputId": "45caa9d6-f752-4a02-f32b-37bafcba385f"
   }
  },
  {
   "cell_type": "code",
   "execution_count": 12,
   "outputs": [],
   "source": [
    "temp_dict = table['t0']['frame'].to_dict('records')\n",
    "conversion_dict = {}\n",
    "for t in temp_dict:\n",
    "    if t['name'] not in conversion_dict.keys():\n",
    "        conversion_dict[t['name']] = t['side']"
   ],
   "metadata": {
    "id": "sl1Y3mXRSzTd"
   }
  },
  {
   "cell_type": "code",
   "execution_count": 13,
   "outputs": [
    {
     "data": {
      "text/plain": "{3100: 'north',\n 1655: 'north',\n 1613: 'north',\n 1611: 'north',\n 1621: 'north',\n 1654: 'north',\n 1622: 'north',\n 1614: 'north',\n 1712: 'north',\n 1711: 'north',\n 1834: 'north',\n 2211: 'north',\n 1722: 'north',\n 1121: 'north',\n 1112: 'north',\n 1814: 'north',\n 1212: 'north',\n 1913: 'north',\n 1914: 'north',\n 1915: 'north',\n 1833: 'north',\n 1922: 'north',\n 1713: 'north',\n 1651: 'north',\n 1912: 'north',\n 1723: 'north',\n 1832: 'north',\n 1732: 'north',\n 1911: 'north',\n 1724: 'north',\n 2024: 'north',\n 1624: 'north',\n 1211: 'north',\n 1632: 'north',\n 1925: 'north',\n 2422: 'north',\n 1731: 'north',\n 1921: 'north',\n 1653: 'north',\n 1733: 'north',\n 1652: 'north',\n 1634: 'north',\n 2424: 'north',\n 1633: 'north',\n 1924: 'north',\n 1631: 'north',\n 1934: 'north',\n 1933: 'north',\n 2423: 'north',\n 2431: 'north',\n 2411: 'north',\n 2033: 'north',\n 2032: 'north',\n 2022: 'north',\n 2412: 'north',\n 2023: 'north',\n 1612: 'north',\n 2413: 'north',\n 2013: 'north',\n 2433: 'north',\n 114: 'south',\n 111: 'south',\n 222: 'south',\n 331: 'south',\n 434: 'south',\n 123: 'south',\n 132: 'south',\n 714: 'south',\n 432: 'south',\n 333: 'south',\n 122: 'south',\n 121: 'south',\n 112: 'south',\n 612: 'south',\n 911: 'south',\n 215: 'south',\n 212: 'south',\n 213: 'south',\n 821: 'south',\n 214: 'south',\n 815: 'south',\n 231: 'south',\n 124: 'south',\n 925: 'south',\n 224: 'south',\n 921: 'south',\n 924: 'south',\n 814: 'south',\n 221: 'south',\n 922: 'south',\n 223: 'south',\n 233: 'south',\n 935: 'south',\n 933: 'south',\n 931: 'south',\n 923: 'south',\n 234: 'south',\n 113: 'south',\n 934: 'south',\n 932: 'south',\n 822: 'south',\n 725: 'south',\n 811: 'south',\n 235: 'south',\n 711: 'south',\n 914: 'south',\n 133: 'south',\n 726: 'south',\n 912: 'south',\n 211: 'south',\n 915: 'south',\n 724: 'south',\n 722: 'south',\n 723: 'south',\n 731: 'south',\n 832: 'south',\n 735: 'south',\n 833: 'south',\n 732: 'south',\n 831: 'south',\n 322: 'south',\n 332: 'south',\n 334: 'south',\n 611: 'south',\n 733: 'south',\n 734: 'south',\n 324: 'south',\n 523: 'south',\n 532: 'south',\n 524: 'south',\n 533: 'south',\n 414: 'south',\n 323: 'south',\n 411: 'south',\n 421: 'south',\n 835: 'south',\n 624: 'south',\n 623: 'south',\n 834: 'south',\n 613: 'south',\n 631: 'south',\n 422: 'south',\n 622: 'south',\n 614: 'south',\n 423: 'south',\n 634: 'south',\n 424: 'south',\n 412: 'south',\n 632: 'south',\n 413: 'south',\n 633: 'south',\n 431: 'south',\n 511: 'south',\n 311: 'south',\n 512: 'south',\n 433: 'south',\n 513: 'south',\n 712: 'south',\n 522: 'south',\n 232: 'south',\n 824: 'south',\n 715: 'south',\n 813: 'south',\n 812: 'south',\n 314: 'south',\n 825: 'south',\n 313: 'south',\n 312: 'south',\n 131: 'south',\n 225: 'south',\n 913: 'south',\n 321: 'south',\n 621: 'south',\n 531: 'south',\n 713: 'south',\n 823: 'south',\n 1823: 'north',\n 2012: 'north',\n 1511: 'north',\n 1213: 'north',\n 1524: 'north',\n 2031: 'north',\n 1423: 'north',\n 1111: 'north',\n 1531: 'north',\n 1831: 'north',\n 2525: 'north',\n 1512: 'north',\n 1223: 'north',\n 1215: 'north',\n 1214: 'north',\n 1222: 'north',\n 1221: 'north',\n 1115: 'north',\n 1532: 'north',\n 1523: 'north',\n 1122: 'north',\n 1114: 'north',\n 1123: 'north',\n 1413: 'north',\n 1113: 'north',\n 1224: 'north',\n 2223: 'north',\n 2222: 'north',\n 2221: 'north',\n 2213: 'north',\n 2232: 'north',\n 2233: 'north',\n 2234: 'north',\n 1923: 'north',\n 1024: 'north',\n 2515: 'north',\n 1822: 'north',\n 1134: 'north',\n 2432: 'north',\n 1414: 'north',\n 2011: 'north',\n 1623: 'north',\n 1513: 'north',\n 1233: 'north',\n 2212: 'north',\n 1232: 'north',\n 1522: 'north',\n 1012: 'north',\n 1021: 'north',\n 1234: 'north',\n 1124: 'north',\n 1412: 'north',\n 1231: 'north',\n 1533: 'north',\n 1125: 'north',\n 1225: 'north',\n 1133: 'north',\n 1132: 'north',\n 1131: 'north',\n 1135: 'north',\n 1023: 'north',\n 1022: 'north',\n 1011: 'north',\n 1014: 'north',\n 1235: 'north',\n 1013: 'north',\n 1034: 'north',\n 1033: 'north',\n 1032: 'north',\n 1031: 'north',\n 2523: 'north',\n 1421: 'north',\n 2522: 'north',\n 2521: 'north',\n 1931: 'north',\n 1932: 'north',\n 1411: 'north',\n 1813: 'north',\n 2514: 'north',\n 1422: 'north',\n 2511: 'north',\n 1432: 'north',\n 2532: 'north',\n 1935: 'north',\n 2524: 'north',\n 2512: 'north',\n 1431: 'north',\n 1812: 'north',\n 1811: 'north',\n 2531: 'north',\n 1433: 'north',\n 1434: 'north',\n 2535: 'north',\n 2534: 'north',\n 1424: 'north',\n 2533: 'north',\n 2513: 'north',\n 1824: 'north',\n 1821: 'north'}"
     },
     "execution_count": 13,
     "metadata": {},
     "output_type": "execute_result"
    }
   ],
   "source": [
    "conversion_dict"
   ],
   "metadata": {
    "id": "XUbuJlkjSzTd",
    "outputId": "605345ea-aed8-4b7e-83ef-99f248d8b1ca"
   }
  },
  {
   "cell_type": "markdown",
   "metadata": {
    "id": "-uPzlwexSzTd"
   },
   "source": [
    "# console1.sql"
   ]
  },
  {
   "cell_type": "code",
   "execution_count": 14,
   "metadata": {
    "id": "f1eFPSKNSzTe",
    "outputId": "2d5586fa-0dc6-40cd-86c4-0425ee89a6c8"
   },
   "outputs": [
    {
     "name": "stdout",
     "output_type": "stream",
     "text": [
      "3 tables received\n"
     ]
    }
   ],
   "source": [
    "filename = 'console1.sql'\n",
    "total, tables = table_from_file(filename)"
   ]
  },
  {
   "cell_type": "markdown",
   "source": [
    "### Data visualization"
   ],
   "metadata": {
    "collapsed": false,
    "id": "XDvvxSKQSzTe"
   }
  },
  {
   "cell_type": "code",
   "execution_count": 15,
   "metadata": {
    "id": "fIyETd0ISzTf",
    "outputId": "c7dd4315-f7c8-401c-f78f-efb51f5338fe"
   },
   "outputs": [
    {
     "name": "stdout",
     "output_type": "stream",
     "text": [
      "          select * from trr_count_by_year_side         \n"
     ]
    }
   ],
   "source": [
    "df0 = tables['t0']['frame']\n",
    "q0 = ' '.join(tables['t0']['sql'].split('\\n'))\n",
    "print(q0)\n",
    "df0.to_csv('tables\\\\df0.csv')"
   ]
  },
  {
   "cell_type": "code",
   "execution_count": 16,
   "metadata": {
    "id": "MBm_lHRfSzTf",
    "outputId": "e8c61d91-62f0-4799-c077-c8074aca7cde"
   },
   "outputs": [
    {
     "name": "stdout",
     "output_type": "stream",
     "text": [
      "          select * from trr_count_by_year         \n"
     ]
    }
   ],
   "source": [
    "df1 = tables['t1']['frame']\n",
    "q1 = ' '.join(tables['t1']['sql'].split('\\n'))\n",
    "print(q1)\n",
    "df1.to_csv('tables\\\\df1.csv')"
   ]
  },
  {
   "cell_type": "code",
   "execution_count": 17,
   "outputs": [
    {
     "name": "stdout",
     "output_type": "stream",
     "text": [
      "          select * from trr_count_by_year_beats         \n"
     ]
    }
   ],
   "source": [
    "df2 = tables['t2']['frame']\n",
    "q2 = ' '.join(tables['t2']['sql'].split('\\n'))\n",
    "print(q2)\n",
    "df2.to_csv('tables\\\\df2.csv')"
   ],
   "metadata": {
    "id": "6vuPLAk4SzTf",
    "outputId": "044795ae-4e23-40b7-ca6f-6a676b7e8323"
   }
  },
  {
   "cell_type": "code",
   "execution_count": 18,
   "metadata": {
    "id": "v5LOJBimSzTg"
   },
   "outputs": [],
   "source": [
    "df0 = pd.read_csv(\"tables\\\\df0.csv\").sort_values(by=\"years\")"
   ]
  },
  {
   "cell_type": "code",
   "execution_count": 19,
   "metadata": {
    "id": "12zzJpK1SzTg"
   },
   "outputs": [],
   "source": [
    "df1 = pd.read_csv(\"tables\\\\df1.csv\").sort_values(by=\"years\")"
   ]
  },
  {
   "cell_type": "code",
   "execution_count": 20,
   "outputs": [],
   "source": [
    "df2 = pd.read_csv(\"tables\\\\df2.csv\").sort_values(by=\"years\")"
   ],
   "metadata": {
    "id": "rrPXSfqTSzTg"
   }
  },
  {
   "cell_type": "markdown",
   "metadata": {
    "id": "yipGJ7UUSzTg"
   },
   "source": [
    "**What is TRR?**\n",
    "TRR is the abbreviation for *Tactical Response Reports*. Usually an event has one complaint with a unique id (CRID) linked to it. But in cases when an event has one or more use of force reports linked to it, it comes under TRR data."
   ]
  },
  {
   "cell_type": "markdown",
   "metadata": {
    "id": "GjmFx5SOSzTg"
   },
   "source": [
    "Let's check out the trr counts from each year. First we'll look at overall trr count yearly, and then we will visualize the trr count by year distinguished by north and south sides."
   ]
  },
  {
   "cell_type": "code",
   "execution_count": 21,
   "metadata": {
    "id": "DUbUs9WNSzTg",
    "outputId": "c670ed1d-9706-4862-f347-3df9f05737a0"
   },
   "outputs": [
    {
     "data": {
      "text/plain": "<Figure size 1000x400 with 1 Axes>",
      "image/png": "[encoded data removed]"
     },
     "metadata": {},
     "output_type": "display_data"
    }
   ],
   "source": [
    "count = list(df1[\"count\"])\n",
    "years = list(df1[\"years\"])\n",
    "\n",
    "plt.figure(figsize=(10,4))\n",
    "plt.plot(years, count)\n",
    "plt.xlabel(\"Year\")\n",
    "plt.ylabel(\"trr report count\")\n",
    "# plt.xticks(np.arange(len(years)), list(years))\n",
    "plt.show()"
   ]
  },
  {
   "cell_type": "code",
   "execution_count": 22,
   "metadata": {
    "id": "lnGKZcw3SzTh",
    "outputId": "cc3880a9-b1f2-4bdd-d50f-02eadc01414f"
   },
   "outputs": [
    {
     "data": {
      "text/plain": "<Figure size 1200x300 with 1 Axes>",
      "image/png": "[encoded data removed]"
     },
     "metadata": {},
     "output_type": "display_data"
    }
   ],
   "source": [
    "def barNS(df,years):\n",
    "    barwidth = 0.3\n",
    "\n",
    "    # years = df[df[\"side\"]=='north'][\"years\"] # same for south\n",
    "    countNorth = df[df[\"side\"]=='north'][\"count\"]\n",
    "    countSouth = df[df[\"side\"]=='south'][\"count\"]\n",
    "\n",
    "    r1 = np.arange(len(countNorth))\n",
    "    r2 = [x + barwidth for x in r1]\n",
    "\n",
    "    fig = plt.subplots(figsize=(12, 3))\n",
    "    plt.bar(r1, countNorth, width=barwidth, color='r', edgecolor=\"black\", label=\"north\")\n",
    "    plt.bar(r2, countSouth, width=barwidth, color='g', edgecolor=\"black\", label=\"south\")\n",
    "    plt.xlabel(\"year\")\n",
    "    plt.ylabel(\"trr count\")\n",
    "    plt.xticks([r + barwidth for r in range(len(countNorth))], years)\n",
    "    plt.legend()\n",
    "    plt.show()\n",
    "\n",
    "\n",
    "barNS(df0, years)"
   ]
  },
  {
   "cell_type": "markdown",
   "metadata": {
    "id": "YcnydG9dSzTh"
   },
   "source": [
    "**Observation:**\n",
    "It is interesting to note that in all cases multiple cases of complaint reports related to a single event comes usually from the north side. Overall, 2020 has far fewer trr reports. These could be because the data for 2020 is more recent and possibly lacking."
   ]
  },
  {
   "cell_type": "markdown",
   "metadata": {
    "id": "Zs7K6jHySzTi"
   },
   "source": [
    "**Question** : *Can we use this information to create a reliable model that can predict the trr count per year?*\n",
    "\n",
    " We are going to use df2 for this part, which contains all the beat names and is categorized according to trr count per year per beat. We are going to define our goal first."
   ]
  },
  {
   "cell_type": "markdown",
   "source": [
    "### **GOAL** : Predict the yearly trr count by city side.\n"
   ],
   "metadata": {
    "id": "D_aVu6fLbsw-"
   }
  },
  {
   "cell_type": "markdown",
   "source": [
    "**Question:** *Why are we using df2?* \n",
    "\n",
    "df0 only concerns with two columns : city side and trr count. This is a very small dataset and therefore not reliable enough to train our model. df2 however, is concerned with more detail- the beats. Therefore, this is more reliable to train our model. "
   ],
   "metadata": {
    "id": "4UmG2hBCa7j-"
   }
  },
  {
   "cell_type": "code",
   "execution_count": 23,
   "outputs": [
    {
     "data": {
      "text/plain": "      beat  count  years\n0     1923      7   2004\n2957  1922      3   2004\n2966   211      7   2004",
      "text/html": "<div>\n<style scoped>\n    .dataframe tbody tr th:only-of-type {\n        vertical-align: middle;\n    }\n\n    .dataframe tbody tr th {\n        vertical-align: top;\n    }\n\n    .dataframe thead th {\n        text-align: right;\n    }\n</style>\n<table border=\"1\" class=\"dataframe\">\n  <thead>\n    <tr style=\"text-align: right;\">\n      <th></th>\n      <th>beat</th>\n      <th>count</th>\n      <th>years</th>\n    </tr>\n  </thead>\n  <tbody>\n    <tr>\n      <th>0</th>\n      <td>1923</td>\n      <td>7</td>\n      <td>2004</td>\n    </tr>\n    <tr>\n      <th>2957</th>\n      <td>1922</td>\n      <td>3</td>\n      <td>2004</td>\n    </tr>\n    <tr>\n      <th>2966</th>\n      <td>211</td>\n      <td>7</td>\n      <td>2004</td>\n    </tr>\n  </tbody>\n</table>\n</div>"
     },
     "execution_count": 23,
     "metadata": {},
     "output_type": "execute_result"
    }
   ],
   "source": [
    "df2.head(3).drop(columns=['Unnamed: 0'])"
   ],
   "metadata": {
    "id": "H9IFpLkCSzTi"
   }
  },
  {
   "cell_type": "code",
   "execution_count": 24,
   "outputs": [
    {
     "name": "stdout",
     "output_type": "stream",
     "text": [
      "3540 \n",
      " 885\n"
     ]
    }
   ],
   "source": [
    "y = np.array(df2[\"count\"])\n",
    "X = np.array(df2[['beat', 'years']])\n",
    "X_train, X_test, y_train, y_test = model_selection.train_test_split(X, y, test_size=0.2)\n",
    "print(len(X_train), '\\n', len(X_test))"
   ],
   "metadata": {
    "id": "jXqmT6i1SzTi",
    "outputId": "30bc2761-e965-4ac0-86c1-4fa127ebcbb7"
   }
  },
  {
   "cell_type": "markdown",
   "source": [
    "Checking out a very simple model first! We are only using standard scaler followed by linear regression"
   ],
   "metadata": {
    "collapsed": false,
    "id": "yxMPzN64SzTj"
   }
  },
  {
   "cell_type": "code",
   "execution_count": 25,
   "outputs": [
    {
     "data": {
      "text/plain": "-148452.24208714397"
     },
     "execution_count": 25,
     "metadata": {},
     "output_type": "execute_result"
    }
   ],
   "source": [
    "X_tf = scalerST.fit_transform(X_train)\n",
    "regrLinear.fit(X_tf, y_train)\n",
    "metrics.r2_score(y_test, regrLinear.predict(X_test))\n"
   ],
   "metadata": {
    "id": "afhxfrq6SzTj",
    "outputId": "d21b878b-77b1-4e4c-e156-0bf1229b67a7"
   }
  },
  {
   "cell_type": "markdown",
   "source": [
    "This simple model performs VERY poorly. Can we improve?"
   ],
   "metadata": {
    "collapsed": false,
    "id": "sTEXpyHwSzTj"
   }
  },
  {
   "cell_type": "code",
   "execution_count": 26,
   "outputs": [
    {
     "data": {
      "text/plain": "                model                                       best hparams  \\\n0  LinearRegression()                          {'lreg__positive': False}   \n1             Ridge()        {'rreg__alpha': 1, 'rreg__positive': False}   \n2    GammaRegressor()    {'greg__alpha': 0.05, 'greg__warm_start': True}   \n3      SGDRegressor()  {'sgdreg__learning_rate': 'invscaling', 'sgdre...   \n4       KernelRidge()      {'kreg__alpha': 5e-05, 'kreg__kernel': 'rbf'}   \n\n   best score  \n0    0.032423  \n1    0.030092  \n2    0.026706  \n3    0.031209  \n4    0.151849  ",
      "text/html": "<div>\n<style scoped>\n    .dataframe tbody tr th:only-of-type {\n        vertical-align: middle;\n    }\n\n    .dataframe tbody tr th {\n        vertical-align: top;\n    }\n\n    .dataframe thead th {\n        text-align: right;\n    }\n</style>\n<table border=\"1\" class=\"dataframe\">\n  <thead>\n    <tr style=\"text-align: right;\">\n      <th></th>\n      <th>model</th>\n      <th>best hparams</th>\n      <th>best score</th>\n    </tr>\n  </thead>\n  <tbody>\n    <tr>\n      <th>0</th>\n      <td>LinearRegression()</td>\n      <td>{'lreg__positive': False}</td>\n      <td>0.032423</td>\n    </tr>\n    <tr>\n      <th>1</th>\n      <td>Ridge()</td>\n      <td>{'rreg__alpha': 1, 'rreg__positive': False}</td>\n      <td>0.030092</td>\n    </tr>\n    <tr>\n      <th>2</th>\n      <td>GammaRegressor()</td>\n      <td>{'greg__alpha': 0.05, 'greg__warm_start': True}</td>\n      <td>0.026706</td>\n    </tr>\n    <tr>\n      <th>3</th>\n      <td>SGDRegressor()</td>\n      <td>{'sgdreg__learning_rate': 'invscaling', 'sgdre...</td>\n      <td>0.031209</td>\n    </tr>\n    <tr>\n      <th>4</th>\n      <td>KernelRidge()</td>\n      <td>{'kreg__alpha': 5e-05, 'kreg__kernel': 'rbf'}</td>\n      <td>0.151849</td>\n    </tr>\n  </tbody>\n</table>\n</div>"
     },
     "execution_count": 26,
     "metadata": {},
     "output_type": "execute_result"
    }
   ],
   "source": [
    "random.seed(10)\n",
    "\n",
    "pipelines = []\n",
    "models = [('lreg', regrLinear), ('rreg', regrRidge), ('greg', regrGamma), ('sgdreg', regrSGD), ('kreg', regrKernal)]\n",
    "results1 = {\"model\" : [], \"best hparams\": [], \"best score\": []}\n",
    "scaling_union = ('scaler', pipeline.FeatureUnion(scalers))\n",
    "params = [{'lreg__positive': [True, False]},\n",
    "          {'rreg__alpha': [0.0001, 0.0005, 0.001, 0.005, 0.01, 0.05, 0.1, 0.5, 1], 'rreg__positive': [True, False]},\n",
    "          {'greg__alpha': [0.0001, 0.0005, 0.001, 0.005, 0.01, 0.05, 0.1, 0.5, 1], 'greg__warm_start': [True, False]},\n",
    "          {'sgdreg__penalty': ['l2', 'l1', 'elasticnet'], 'sgdreg__learning_rate': ['optimal', 'invscaling', 'adaptive'], 'sgdreg__max_iter': [10000]},\n",
    "          {'kreg__alpha': [0.00005, 0.0001, 0.0005, 0.001, 0.005], 'kreg__kernel': [\"rbf\"]}]\n",
    "\n",
    "\n",
    "for i in range(len(models)):\n",
    "    results1[\"model\"].append(models[i][1])\n",
    "    reg = pipeline.Pipeline([scaling_union, models[i]])\n",
    "    grids = model_selection.GridSearchCV(reg, param_grid=params[i], cv=5)\n",
    "    grids.fit(X_train, y_train)\n",
    "    best_estimator = grids.best_estimator_\n",
    "    pipelines.append(best_estimator)\n",
    "    best_estimator.fit(X_train, y_train)\n",
    "    score = metrics.r2_score(y_test, best_estimator.predict(X_test))\n",
    "    results1[\"best score\"].append(score)\n",
    "    results1[\"best hparams\"].append(grids.best_params_)\n",
    "\n",
    "resultdf = pd.DataFrame(results1)\n",
    "resultdf.to_csv('results\\\\result1.csv')\n",
    "resultdf"
   ],
   "metadata": {
    "id": "5XIWcg3bSzTj",
    "outputId": "e91f8f99-8ea6-4302-fb0f-407f004e6311"
   }
  },
  {
   "cell_type": "markdown",
   "source": [
    "A little better than what we had before. But we want to generalize this to our goal? We are gonna look at the best model out of the 5 we have right now, and see how it fares when we are just trying to predict trr count yearly by side instead of by beat."
   ],
   "metadata": {
    "collapsed": false,
    "id": "qbjd5OlJSzTk"
   }
  },
  {
   "cell_type": "code",
   "execution_count": 27,
   "outputs": [
    {
     "data": {
      "text/plain": "Pipeline(steps=[('scaler',\n                 FeatureUnion(transformer_list=[('std', StandardScaler()),\n                                                ('rb', RobustScaler())])),\n                ('kreg', KernelRidge(alpha=5e-05, kernel='rbf'))])",
      "text/html": "<style>#sk-container-id-1 {color: black;background-color: white;}#sk-container-id-1 pre{padding: 0;}#sk-container-id-1 div.sk-toggleable {background-color: white;}#sk-container-id-1 label.sk-toggleable__label {cursor: pointer;display: block;width: 100%;margin-bottom: 0;padding: 0.3em;box-sizing: border-box;text-align: center;}#sk-container-id-1 label.sk-toggleable__label-arrow:before {content: \"▸\";float: left;margin-right: 0.25em;color: #696969;}#sk-container-id-1 label.sk-toggleable__label-arrow:hover:before {color: black;}#sk-container-id-1 div.sk-estimator:hover label.sk-toggleable__label-arrow:before {color: black;}#sk-container-id-1 div.sk-toggleable__content {max-height: 0;max-width: 0;overflow: hidden;text-align: left;background-color: #f0f8ff;}#sk-container-id-1 div.sk-toggleable__content pre {margin: 0.2em;color: black;border-radius: 0.25em;background-color: #f0f8ff;}#sk-container-id-1 input.sk-toggleable__control:checked~div.sk-toggleable__content {max-height: 200px;max-width: 100%;overflow: auto;}#sk-container-id-1 input.sk-toggleable__control:checked~label.sk-toggleable__label-arrow:before {content: \"▾\";}#sk-container-id-1 div.sk-estimator input.sk-toggleable__control:checked~label.sk-toggleable__label {background-color: #d4ebff;}#sk-container-id-1 div.sk-label input.sk-toggleable__control:checked~label.sk-toggleable__label {background-color: #d4ebff;}#sk-container-id-1 input.sk-hidden--visually {border: 0;clip: rect(1px 1px 1px 1px);clip: rect(1px, 1px, 1px, 1px);height: 1px;margin: -1px;overflow: hidden;padding: 0;position: absolute;width: 1px;}#sk-container-id-1 div.sk-estimator {font-family: monospace;background-color: #f0f8ff;border: 1px dotted black;border-radius: 0.25em;box-sizing: border-box;margin-bottom: 0.5em;}#sk-container-id-1 div.sk-estimator:hover {background-color: #d4ebff;}#sk-container-id-1 div.sk-parallel-item::after {content: \"\";width: 100%;border-bottom: 1px solid gray;flex-grow: 1;}#sk-container-id-1 div.sk-label:hover label.sk-toggleable__label {background-color: #d4ebff;}#sk-container-id-1 div.sk-serial::before {content: \"\";position: absolute;border-left: 1px solid gray;box-sizing: border-box;top: 0;bottom: 0;left: 50%;z-index: 0;}#sk-container-id-1 div.sk-serial {display: flex;flex-direction: column;align-items: center;background-color: white;padding-right: 0.2em;padding-left: 0.2em;position: relative;}#sk-container-id-1 div.sk-item {position: relative;z-index: 1;}#sk-container-id-1 div.sk-parallel {display: flex;align-items: stretch;justify-content: center;background-color: white;position: relative;}#sk-container-id-1 div.sk-item::before, #sk-container-id-1 div.sk-parallel-item::before {content: \"\";position: absolute;border-left: 1px solid gray;box-sizing: border-box;top: 0;bottom: 0;left: 50%;z-index: -1;}#sk-container-id-1 div.sk-parallel-item {display: flex;flex-direction: column;z-index: 1;position: relative;background-color: white;}#sk-container-id-1 div.sk-parallel-item:first-child::after {align-self: flex-end;width: 50%;}#sk-container-id-1 div.sk-parallel-item:last-child::after {align-self: flex-start;width: 50%;}#sk-container-id-1 div.sk-parallel-item:only-child::after {width: 0;}#sk-container-id-1 div.sk-dashed-wrapped {border: 1px dashed gray;margin: 0 0.4em 0.5em 0.4em;box-sizing: border-box;padding-bottom: 0.4em;background-color: white;}#sk-container-id-1 div.sk-label label {font-family: monospace;font-weight: bold;display: inline-block;line-height: 1.2em;}#sk-container-id-1 div.sk-label-container {text-align: center;}#sk-container-id-1 div.sk-container {/* jupyter's `normalize.less` sets `[hidden] { display: none; }` but bootstrap.min.css set `[hidden] { display: none !important; }` so we also need the `!important` here to be able to override the default hidden behavior on the sphinx rendered scikit-learn.org. See: https://github.com/scikit-learn/scikit-learn/issues/21755 */display: inline-block !important;position: relative;}#sk-container-id-1 div.sk-text-repr-fallback {display: none;}</style><div id=\"sk-container-id-1\" class=\"sk-top-container\"><div class=\"sk-text-repr-fallback\"><pre>Pipeline(steps=[(&#x27;scaler&#x27;,\n                 FeatureUnion(transformer_list=[(&#x27;std&#x27;, StandardScaler()),\n                                                (&#x27;rb&#x27;, RobustScaler())])),\n                (&#x27;kreg&#x27;, KernelRidge(alpha=5e-05, kernel=&#x27;rbf&#x27;))])</pre><b>In a Jupyter environment, please rerun this cell to show the HTML representation or trust the notebook. <br />On GitHub, the HTML representation is unable to render, please try loading this page with nbviewer.org.</b></div><div class=\"sk-container\" hidden><div class=\"sk-item sk-dashed-wrapped\"><div class=\"sk-label-container\"><div class=\"sk-label sk-toggleable\"><input class=\"sk-toggleable__control sk-hidden--visually\" id=\"sk-estimator-id-1\" type=\"checkbox\" ><label for=\"sk-estimator-id-1\" class=\"sk-toggleable__label sk-toggleable__label-arrow\">Pipeline</label><div class=\"sk-toggleable__content\"><pre>Pipeline(steps=[(&#x27;scaler&#x27;,\n                 FeatureUnion(transformer_list=[(&#x27;std&#x27;, StandardScaler()),\n                                                (&#x27;rb&#x27;, RobustScaler())])),\n                (&#x27;kreg&#x27;, KernelRidge(alpha=5e-05, kernel=&#x27;rbf&#x27;))])</pre></div></div></div><div class=\"sk-serial\"><div class=\"sk-item sk-dashed-wrapped\"><div class=\"sk-label-container\"><div class=\"sk-label sk-toggleable\"><input class=\"sk-toggleable__control sk-hidden--visually\" id=\"sk-estimator-id-2\" type=\"checkbox\" ><label for=\"sk-estimator-id-2\" class=\"sk-toggleable__label sk-toggleable__label-arrow\">scaler: FeatureUnion</label><div class=\"sk-toggleable__content\"><pre>FeatureUnion(transformer_list=[(&#x27;std&#x27;, StandardScaler()),\n                               (&#x27;rb&#x27;, RobustScaler())])</pre></div></div></div><div class=\"sk-parallel\"><div class=\"sk-parallel-item\"><div class=\"sk-item\"><div class=\"sk-label-container\"><div class=\"sk-label sk-toggleable\"><label>std</label></div></div><div class=\"sk-serial\"><div class=\"sk-item\"><div class=\"sk-estimator sk-toggleable\"><input class=\"sk-toggleable__control sk-hidden--visually\" id=\"sk-estimator-id-3\" type=\"checkbox\" ><label for=\"sk-estimator-id-3\" class=\"sk-toggleable__label sk-toggleable__label-arrow\">StandardScaler</label><div class=\"sk-toggleable__content\"><pre>StandardScaler()</pre></div></div></div></div></div></div><div class=\"sk-parallel-item\"><div class=\"sk-item\"><div class=\"sk-label-container\"><div class=\"sk-label sk-toggleable\"><label>rb</label></div></div><div class=\"sk-serial\"><div class=\"sk-item\"><div class=\"sk-estimator sk-toggleable\"><input class=\"sk-toggleable__control sk-hidden--visually\" id=\"sk-estimator-id-4\" type=\"checkbox\" ><label for=\"sk-estimator-id-4\" class=\"sk-toggleable__label sk-toggleable__label-arrow\">RobustScaler</label><div class=\"sk-toggleable__content\"><pre>RobustScaler()</pre></div></div></div></div></div></div></div></div><div class=\"sk-item\"><div class=\"sk-estimator sk-toggleable\"><input class=\"sk-toggleable__control sk-hidden--visually\" id=\"sk-estimator-id-5\" type=\"checkbox\" ><label for=\"sk-estimator-id-5\" class=\"sk-toggleable__label sk-toggleable__label-arrow\">KernelRidge</label><div class=\"sk-toggleable__content\"><pre>KernelRidge(alpha=5e-05, kernel=&#x27;rbf&#x27;)</pre></div></div></div></div></div></div></div>"
     },
     "execution_count": 27,
     "metadata": {},
     "output_type": "execute_result"
    }
   ],
   "source": [
    "pipelines[4] # current best"
   ],
   "metadata": {
    "id": "6NqMXWGSSzTk",
    "outputId": "e588923f-7edc-4c44-c1e3-7bebcac1a4c0"
   }
  },
  {
   "cell_type": "code",
   "execution_count": 28,
   "outputs": [],
   "source": [
    "clf = pipelines[4]\n",
    "\n",
    "y_pred = pd.DataFrame(clf.predict(X_test)).rename(columns = {0: 'count'})\n",
    "y_testdf = pd.DataFrame(y_test).rename(columns = {0: 'count'})\n",
    "\n",
    "X_testdf = pd.DataFrame(X_test).rename(columns={0: 'side', 1: 'years'})\n",
    "X_testdf[\"side\"] = X_testdf[\"side\"].apply(lambda x: conversion_dict[x])\n",
    "\n",
    "df_pred = pd.concat([X_testdf, y_pred], axis=1, join='inner')\n",
    "df_actual = pd.concat([X_testdf, y_testdf], axis=1, join='inner')\n",
    "\n",
    "temp_pred = df_pred.groupby(['side', 'years']).agg({'count': ['sum']})\n",
    "temp_actual = df_actual.groupby(['side', 'years']).agg({'count': ['sum']})\n",
    "\n",
    "temp_pred.columns = ['sum']\n",
    "temp_actual.columns = ['sum']\n",
    "\n",
    "df_pred = temp_pred.reset_index().rename(columns={'sum':'count'})\n",
    "df_actual = temp_actual.reset_index().rename(columns={'sum':'count'})"
   ],
   "metadata": {
    "id": "L8bPftMGSzTk"
   }
  },
  {
   "cell_type": "code",
   "execution_count": 29,
   "outputs": [
    {
     "name": "stdout",
     "output_type": "stream",
     "text": [
      "Predicted trr report counts per year for beats included in test data using Kernal Ridge\n"
     ]
    },
    {
     "data": {
      "text/plain": "<Figure size 1200x300 with 1 Axes>",
      "image/png": "[encoded data removed]"
     },
     "metadata": {},
     "output_type": "display_data"
    }
   ],
   "source": [
    "print(\"Predicted trr report counts per year for beats included in test data using Kernal Ridge\")\n",
    "barNS(df_pred, years)"
   ],
   "metadata": {
    "id": "NnDOUDPfSzTl",
    "outputId": "9f4ee5d6-053a-438e-9ca3-cd721cdbe348"
   }
  },
  {
   "cell_type": "code",
   "execution_count": 30,
   "outputs": [
    {
     "name": "stdout",
     "output_type": "stream",
     "text": [
      "Actual trr counts per year for beats included in test data\n"
     ]
    },
    {
     "data": {
      "text/plain": "<Figure size 1200x300 with 1 Axes>",
      "image/png": "[encoded data removed]"
     },
     "metadata": {},
     "output_type": "display_data"
    }
   ],
   "source": [
    "print(\"Actual trr counts per year for beats included in test data\")\n",
    "barNS(df_actual, years)"
   ],
   "metadata": {
    "id": "I_KYXVkkSzTl",
    "outputId": "a8fc501c-23ad-4de7-c211-34f826937f2a"
   }
  },
  {
   "cell_type": "code",
   "execution_count": 31,
   "outputs": [
    {
     "data": {
      "text/plain": "0.7422694694278559"
     },
     "execution_count": 31,
     "metadata": {},
     "output_type": "execute_result"
    }
   ],
   "source": [
    "metrics.r2_score(df_pred['count'], df_actual['count'])"
   ],
   "metadata": {
    "collapsed": false
   }
  },
  {
   "cell_type": "markdown",
   "source": [
    "<br>"
   ],
   "metadata": {
    "collapsed": false
   }
  },
  {
   "cell_type": "markdown",
   "source": [
    "### Question\n",
    "\n",
    "How can we improve now?"
   ],
   "metadata": {
    "collapsed": false,
    "id": "-U8EQGBcSzTn"
   }
  },
  {
   "cell_type": "markdown",
   "source": [
    "Let us use a bit more information, such as the officer history of the officers involved in the trr incidents. We are going to now perform a few more sql queries for that."
   ],
   "metadata": {
    "collapsed": false,
    "id": "WNVlaHqASzTo"
   }
  },
  {
   "cell_type": "code",
   "execution_count": 33,
   "outputs": [],
   "source": [],
   "metadata": {
    "id": "mJG7u_B5SzTo"
   }
  }
 ],
 "metadata": {
  "kernelspec": {
   "display_name": "Python 3 (ipykernel)",
   "language": "python",
   "name": "python3"
  },
  "language_info": {
   "codemirror_mode": {
    "name": "ipython",
    "version": 3
   },
   "file_extension": ".py",
   "mimetype": "text/x-python",
   "name": "python",
   "nbconvert_exporter": "python",
   "pygments_lexer": "ipython3",
   "version": "3.10.8"
  },
  "colab": {
   "provenance": []
  }
 },
 "nbformat": 4,
 "nbformat_minor": 0
}
