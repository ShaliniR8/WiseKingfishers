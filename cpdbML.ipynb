{
 "cells": [
  {
   "cell_type": "code",
   "execution_count": 2,
   "metadata": {
    "id": "3tBX2PrjSzTQ"
   },
   "outputs": [],
   "source": [
    "%matplotlib inline\n",
    "from sqlalchemy import create_engine\n",
    "import pandas as pd\n",
    "import matplotlib.pyplot as plt\n",
    "import numpy as np\n",
    "import random"
   ]
  },
  {
   "cell_type": "code",
   "execution_count": 3,
   "outputs": [],
   "source": [
    "from sklearn import preprocessing\n",
    "from sklearn import feature_extraction\n",
    "from sklearn import decomposition\n",
    "from sklearn import neighbors\n",
    "from sklearn import impute\n",
    "from sklearn import linear_model\n",
    "from sklearn import kernel_ridge\n",
    "from sklearn import model_selection\n",
    "from sklearn import metrics\n",
    "from sklearn import pipeline\n",
    "from sklearn import compose"
   ],
   "metadata": {
    "id": "tIPNLP_PSzTS"
   }
  },
  {
   "cell_type": "markdown",
   "metadata": {
    "id": "wOxIqVNjSzTT"
   },
   "source": [
    "# Create a class to create pandas dataframe from SQL queries"
   ]
  },
  {
   "cell_type": "code",
   "execution_count": 4,
   "metadata": {
    "id": "pJHMpSicSzTV"
   },
   "outputs": [],
   "source": [
    "#Read data from JDBC server\n",
    "class DB:\n",
    "    def __init__(self):\n",
    "        self.tables = None\n",
    "        self.df = None\n",
    "        self.point = None\n",
    "        self.POSTGRES_HOST = \"codd03.research.northwestern.edu\"\n",
    "        self.POSTGRES_PORT = 5432\n",
    "        self.POSTGRES_DBNAME = 'cpdb'\n",
    "        self.POSTGRES_USERNAME = 'cpdb_student'\n",
    "        self.POSTGRES_PASSWORD = 'DataSci4Lyfe'\n",
    "        self.postgres_str = ('postgresql://{username}:{password}@{host}:{port}/{dbname}'.format(username=self.POSTGRES_USERNAME,\n",
    "                                                                                           password=self.POSTGRES_PASSWORD,\n",
    "                                                                                           host=self.POSTGRES_HOST,\n",
    "                                                                                           port=self.POSTGRES_PORT,\n",
    "                                                                                           dbname=self.POSTGRES_DBNAME))\n",
    "        self.engine = create_engine(self.postgres_str)\n",
    "\n",
    "    def query(self, queryCommand):\n",
    "            self.point = self.engine.execute(queryCommand)\n",
    "            self.df = None\n",
    "            try: self.df = pd.DataFrame([*self.point.mappings()])\n",
    "            except Exception as msg:\n",
    "                if msg == 'This result object does not return rows. It has been closed automatically.':pass\n",
    "            return self.df\n",
    "\n",
    "    def get_tables_from_commands(self, commands=None):\n",
    "        self.tables = {}\n",
    "        for command in commands:\n",
    "            try:\n",
    "                df = self.query(command)\n",
    "                if df is not None:\n",
    "                    self.tables[f't{len(self.tables.keys())}'] = {'frame': df, 'sql': command}\n",
    "            except:\n",
    "                pass\n",
    "        return self.tables\n",
    "\n",
    "def table_from_file(filename):\n",
    "    obj = DB()\n",
    "    t = obj.get_tables_from_commands\n",
    "    with open(filename, 'r') as f:\n",
    "        sqlFile = f.read()\n",
    "    commands_raw = sqlFile.split(';')\n",
    "    commands = []\n",
    "    for command in commands_raw:\n",
    "        q = f'''\n",
    "        {command}\n",
    "        '''\n",
    "        commands.append(q)\n",
    "    tables = t(commands)\n",
    "    total = len(tables.keys())\n",
    "    print(total, \"tables received\")\n",
    "    del obj\n",
    "    return (total, tables)"
   ]
  },
  {
   "cell_type": "markdown",
   "source": [
    "<br>"
   ],
   "metadata": {
    "collapsed": false
   }
  },
  {
   "cell_type": "markdown",
   "source": [
    "### Encoding/Decoding/cleaning helpers\n"
   ],
   "metadata": {
    "collapsed": false
   }
  },
  {
   "cell_type": "code",
   "execution_count": 5,
   "outputs": [
    {
     "name": "stdout",
     "output_type": "stream",
     "text": [
      "1 tables received\n"
     ]
    }
   ],
   "source": [
    "def convert():\n",
    "    # convert beats to sides\n",
    "    filename = 'console0.sql'\n",
    "    _, table = table_from_file(filename)\n",
    "\n",
    "    # a dictionary that helps categorize beats to north or south\n",
    "    temp_dict = table['t0']['frame'].to_dict('records')\n",
    "    conversion_dict = {}\n",
    "    for t in temp_dict:\n",
    "        if t['name'] not in conversion_dict.keys():\n",
    "            conversion_dict[t['name']] = t['side']\n",
    "    return conversion_dict\n",
    "\n",
    "conversion_dict = convert()"
   ],
   "metadata": {
    "collapsed": false
   }
  },
  {
   "cell_type": "code",
   "execution_count": 6,
   "outputs": [],
   "source": [
    "def kneighbours(beats):\n",
    "    samples = list(conversion_dict.keys())\n",
    "    neigh = neighbors.NearestNeighbors(n_neighbors=1)\n",
    "    neigh.fit(np.reshape(np.array(samples), (-1, 1)))\n",
    "\n",
    "    beats = np.reshape(np.array(list(beats)), (-1, 1))\n",
    "    sample_idx = neigh.kneighbors(beats, return_distance=False)\n",
    "\n",
    "    beatsNew = [ samples[i[0]] for i in sample_idx ]\n",
    "    return beatsNew\n"
   ],
   "metadata": {
    "collapsed": false
   }
  },
  {
   "cell_type": "markdown",
   "source": [
    "### Preprocessing helpers"
   ],
   "metadata": {
    "collapsed": false
   }
  },
  {
   "cell_type": "code",
   "execution_count": 7,
   "outputs": [],
   "source": [
    "# keep columns which have more than 85% missing values\n",
    "def remove_missing(data):\n",
    "    columns = list(data.columns)\n",
    "    print(f\"Originallly {len(columns)} columns\")\n",
    "    missing = pd.DataFrame(data.isnull().sum())\n",
    "    missing.reset_index(inplace=True)\n",
    "    missing = missing.rename(columns = {'index':'columns', 0: 'null count'})\n",
    "    missing[\"null count\"] = missing[\"null count\"].apply(lambda x: x*100/len(df1))\n",
    "    remaining_columns = missing[missing[\"null count\"] < 85.0][\"columns\"]\n",
    "    print(f\"Dropped to {len(remaining_columns)} columns by 85% rule\")\n",
    "    print(list(remaining_columns))\n",
    "    return list(remaining_columns)"
   ],
   "metadata": {
    "collapsed": false
   }
  },
  {
   "cell_type": "code",
   "execution_count": 8,
   "outputs": [],
   "source": [
    "# imputation\n",
    "zeroImputer = impute.SimpleImputer(strategy='constant', fill_value=0)\n",
    "meanImputer = impute.SimpleImputer()\n",
    "\n",
    "imputers = [('zero', zeroImputer), ('mean', meanImputer)]"
   ],
   "metadata": {
    "collapsed": false
   }
  },
  {
   "cell_type": "code",
   "execution_count": 9,
   "outputs": [],
   "source": [
    "# scaling\n",
    "scalerST = preprocessing.StandardScaler()\n",
    "scalerRB = preprocessing.RobustScaler()\n",
    "scalers = [('std', scalerST), ('rb', scalerRB)]"
   ],
   "metadata": {
    "collapsed": false
   }
  },
  {
   "cell_type": "markdown",
   "source": [
    "### Feature Selection helpers"
   ],
   "metadata": {
    "collapsed": false
   }
  },
  {
   "cell_type": "code",
   "execution_count": 10,
   "outputs": [],
   "source": [
    "incrPCA = decomposition.IncrementalPCA()"
   ],
   "metadata": {
    "collapsed": false
   }
  },
  {
   "cell_type": "markdown",
   "source": [
    "### model selection helpers"
   ],
   "metadata": {
    "collapsed": false
   }
  },
  {
   "cell_type": "code",
   "execution_count": 11,
   "outputs": [],
   "source": [
    "# linear models\n",
    "\n",
    "regrLinear = linear_model.LinearRegression()\n",
    "regrRidge = linear_model.Ridge()\n",
    "regrGamma = linear_model.GammaRegressor()\n",
    "regrSGD = linear_model.SGDRegressor()\n",
    "\n"
   ],
   "metadata": {
    "collapsed": false
   }
  },
  {
   "cell_type": "code",
   "execution_count": 12,
   "outputs": [],
   "source": [
    "# kernal ridge\n",
    "regrKernal = kernel_ridge.KernelRidge()\n"
   ],
   "metadata": {
    "collapsed": false
   }
  },
  {
   "cell_type": "code",
   "execution_count": 13,
   "outputs": [],
   "source": [
    "# classification\n",
    "\n",
    "classLog = linear_model.LogisticRegression()"
   ],
   "metadata": {
    "collapsed": false
   }
  },
  {
   "cell_type": "markdown",
   "source": [
    "### Data visualization helpers"
   ],
   "metadata": {
    "collapsed": false
   }
  },
  {
   "cell_type": "code",
   "execution_count": 14,
   "outputs": [],
   "source": [
    "def plotLine(df, years):\n",
    "    count = list(df[\"count\"])\n",
    "    plt.figure(figsize=(10,4))\n",
    "    plt.plot(years, count)\n",
    "    plt.xlabel(\"Year\")\n",
    "    plt.ylabel(\"trr report count\")\n",
    "    plt.show()"
   ],
   "metadata": {
    "collapsed": false
   }
  },
  {
   "cell_type": "code",
   "execution_count": 15,
   "outputs": [],
   "source": [
    "def barNS(df,years, name = \"img.jpg\"):\n",
    "    barwidth = 0.3\n",
    "\n",
    "    # years = df[df[\"side\"]=='north'][\"years\"] # same for south\n",
    "    countNorth = df[df[\"side\"]=='north'][\"count\"]\n",
    "    countSouth = df[df[\"side\"]=='south'][\"count\"]\n",
    "\n",
    "    r1 = np.arange(len(countNorth))\n",
    "    r2 = [x + barwidth for x in r1]\n",
    "\n",
    "    fig = plt.subplots(figsize=(12, 3))\n",
    "    plt.bar(r1, countNorth, width=barwidth, color='r', edgecolor=\"black\", label=\"north\")\n",
    "    plt.bar(r2, countSouth, width=barwidth, color='g', edgecolor=\"black\", label=\"south\")\n",
    "    plt.xlabel(\"year\")\n",
    "    plt.ylabel(\"trr count\")\n",
    "    plt.xticks([r + barwidth for r in range(len(countNorth))], years)\n",
    "    plt.legend()\n",
    "    plt.savefig(\"images\\\\\"+name)\n",
    "    plt.show()\n",
    "\n",
    "def bar_pred_NS(df1, df2, years, name = \"img.jpg\"):\n",
    "    barwidth = 0.5\n",
    "\n",
    "    # years = df[df[\"side\"]=='north'][\"years\"] # same for south\n",
    "    countNorth1 = df1[df1[\"side\"]=='north'][\"count\"]\n",
    "    countNorth2 = df2[df2[\"side\"]=='north'][\"count\"]\n",
    "    countSouth1 = df1[df1[\"side\"]=='south'][\"count\"]\n",
    "    countSouth2 = df2[df2[\"side\"]=='south'][\"count\"]\n",
    "\n",
    "    r1 = np.arange(len(countNorth1))\n",
    "    # print(r1)\n",
    "    r2 = [x + barwidth for x in r1]\n",
    "    # print(r2)\n",
    "\n",
    "    r3 = [x + 2*barwidth for x in r1]\n",
    "    # print(r3)\n",
    "    r4 = [x + 3*barwidth for x in r1]\n",
    "    # print(r4)\n",
    "    fig = plt.subplots(figsize = (12, 12))\n",
    "    plt.bar(r1, countNorth1, width=barwidth, color='blue', edgecolor=\"black\", label=\"north_real\")\n",
    "    plt.bar(r2, countNorth2, width=barwidth, color='green', edgecolor=\"red\", label=\"north_prediction\")\n",
    "    plt.bar(r3, countSouth1, width=barwidth, color='blue', edgecolor=\"black\", label=\"south_real\")\n",
    "    plt.bar(r4, countSouth2, width=barwidth, color='green', edgecolor=\"red\", label=\"south_prediction\")\n",
    "    plt.xlabel(\"year\")\n",
    "    plt.ylabel(\"trr count\")\n",
    "    # print([r + 2*barwidth for r in range(len(countNorth1))])\n",
    "    plt.xticks([r + 2*barwidth for r in range(len(countNorth1))], labels = years, rotation=25)\n",
    "    plt.legend()\n",
    "    plt.savefig(\"images\\\\\"+name)\n",
    "    plt.show()"
   ],
   "metadata": {
    "collapsed": false
   }
  },
  {
   "cell_type": "markdown",
   "source": [
    "<br>"
   ],
   "metadata": {
    "collapsed": false
   }
  },
  {
   "cell_type": "markdown",
   "source": [
    "# Get all required tables"
   ],
   "metadata": {
    "collapsed": false
   }
  },
  {
   "cell_type": "markdown",
   "source": [
    "# console1.sql"
   ],
   "metadata": {
    "collapsed": false
   }
  },
  {
   "cell_type": "code",
   "execution_count": 16,
   "outputs": [
    {
     "name": "stdout",
     "output_type": "stream",
     "text": [
      "3 tables received\n"
     ]
    }
   ],
   "source": [
    "filename = 'console1.sql'\n",
    "total, tables = table_from_file(filename)"
   ],
   "metadata": {
    "collapsed": false
   }
  },
  {
   "cell_type": "code",
   "execution_count": 17,
   "metadata": {
    "id": "fIyETd0ISzTf",
    "outputId": "c7dd4315-f7c8-401c-f78f-efb51f5338fe"
   },
   "outputs": [
    {
     "name": "stdout",
     "output_type": "stream",
     "text": [
      "          select * from trr_count_by_year_side         \n"
     ]
    }
   ],
   "source": [
    "df0 = tables['t0']['frame']\n",
    "q0 = ' '.join(tables['t0']['sql'].split('\\n'))\n",
    "print(q0)\n",
    "df0.to_csv('tables\\\\df0.csv')"
   ]
  },
  {
   "cell_type": "code",
   "execution_count": 18,
   "metadata": {
    "id": "MBm_lHRfSzTf",
    "outputId": "e8c61d91-62f0-4799-c077-c8074aca7cde"
   },
   "outputs": [
    {
     "name": "stdout",
     "output_type": "stream",
     "text": [
      "          select * from trr_count_by_year         \n"
     ]
    }
   ],
   "source": [
    "df1 = tables['t1']['frame']\n",
    "q1 = ' '.join(tables['t1']['sql'].split('\\n'))\n",
    "print(q1)\n",
    "df1.to_csv('tables\\\\df1.csv')"
   ]
  },
  {
   "cell_type": "code",
   "execution_count": 19,
   "outputs": [
    {
     "name": "stdout",
     "output_type": "stream",
     "text": [
      "          select * from trr_count_by_year_beats         \n"
     ]
    }
   ],
   "source": [
    "df2 = tables['t2']['frame']\n",
    "q2 = ' '.join(tables['t2']['sql'].split('\\n'))\n",
    "print(q2)\n",
    "df2.to_csv('tables\\\\df2.csv')"
   ],
   "metadata": {
    "id": "6vuPLAk4SzTf",
    "outputId": "044795ae-4e23-40b7-ca6f-6a676b7e8323"
   }
  },
  {
   "cell_type": "code",
   "execution_count": 20,
   "metadata": {
    "id": "v5LOJBimSzTg"
   },
   "outputs": [],
   "source": [
    "df0 = pd.read_csv(\"tables\\\\df0.csv\").sort_values(by=\"years\")"
   ]
  },
  {
   "cell_type": "code",
   "execution_count": 21,
   "metadata": {
    "id": "12zzJpK1SzTg"
   },
   "outputs": [],
   "source": [
    "df1 = pd.read_csv(\"tables\\\\df1.csv\").sort_values(by=\"years\")"
   ]
  },
  {
   "cell_type": "code",
   "execution_count": 22,
   "outputs": [],
   "source": [
    "df2 = pd.read_csv(\"tables\\\\df2.csv\").sort_values(by=\"years\")"
   ],
   "metadata": {
    "id": "rrPXSfqTSzTg"
   }
  },
  {
   "cell_type": "code",
   "execution_count": 23,
   "outputs": [],
   "source": [
    "years = list(df1[\"years\"])"
   ],
   "metadata": {
    "collapsed": false
   }
  },
  {
   "cell_type": "markdown",
   "metadata": {
    "id": "yipGJ7UUSzTg"
   },
   "source": [
    "**What is TRR?**\n",
    "TRR is the abbreviation for *Tactical Response Reports*. Usually an event has one complaint with a unique id (CRID) linked to it. But in cases when an event has one or more use of force reports linked to it, it comes under TRR data."
   ]
  },
  {
   "cell_type": "markdown",
   "metadata": {
    "id": "GjmFx5SOSzTg"
   },
   "source": [
    "Let's check out the trr counts from each year. First we'll look at overall trr count yearly, and then we will visualize the trr count by year distinguished by north and south sides."
   ]
  },
  {
   "cell_type": "code",
   "execution_count": 24,
   "metadata": {
    "id": "DUbUs9WNSzTg",
    "outputId": "c670ed1d-9706-4862-f347-3df9f05737a0"
   },
   "outputs": [
    {
     "data": {
      "text/plain": "<Figure size 1000x400 with 1 Axes>",
      "image/png": "[encoded data removed]"
     },
     "metadata": {},
     "output_type": "display_data"
    }
   ],
   "source": [
    "plotLine(df1, years)"
   ]
  },
  {
   "cell_type": "code",
   "execution_count": 25,
   "metadata": {
    "id": "lnGKZcw3SzTh",
    "outputId": "cc3880a9-b1f2-4bdd-d50f-02eadc01414f"
   },
   "outputs": [
    {
     "data": {
      "text/plain": "<Figure size 1200x300 with 1 Axes>",
      "image/png": "[encoded data removed]"
     },
     "metadata": {},
     "output_type": "display_data"
    }
   ],
   "source": [
    "barNS(df0, years, \"full_data_d0.jpg\")"
   ]
  },
  {
   "cell_type": "markdown",
   "metadata": {
    "id": "YcnydG9dSzTh"
   },
   "source": [
    "**Observation:**\n",
    "It is interesting to note that in all cases multiple cases of complaint reports related to a single event comes usually from the north side. Overall, 2020 has far fewer trr reports. These could be because the data for 2020 is more recent and possibly lacking."
   ]
  },
  {
   "cell_type": "markdown",
   "metadata": {
    "id": "Zs7K6jHySzTi"
   },
   "source": [
    "**Question** : *Can we use this information to create a reliable model that can predict the trr count per year?*\n",
    "\n",
    " We are going to use df2 for this part, which contains all the beat names and is categorized according to trr count per year per beat. We are going to define our goal first."
   ]
  },
  {
   "cell_type": "markdown",
   "source": [
    "### **GOAL** : Predict the yearly trr count by city side.\n"
   ],
   "metadata": {
    "id": "D_aVu6fLbsw-"
   }
  },
  {
   "cell_type": "markdown",
   "source": [
    "**Question:** *Why are we using df2?* \n",
    "\n",
    "df0 only concerns with two columns : city side and trr count. This is a very small dataset and therefore not reliable enough to train our model. df2 however, is concerned with more detail- the beats. Therefore, this is more reliable to train our model. "
   ],
   "metadata": {
    "id": "4UmG2hBCa7j-"
   }
  },
  {
   "cell_type": "code",
   "execution_count": 26,
   "outputs": [
    {
     "data": {
      "text/plain": "      beat  count  years\n0     1923      7   2004\n2957  1922      3   2004\n2966   211      7   2004",
      "text/html": "<div>\n<style scoped>\n    .dataframe tbody tr th:only-of-type {\n        vertical-align: middle;\n    }\n\n    .dataframe tbody tr th {\n        vertical-align: top;\n    }\n\n    .dataframe thead th {\n        text-align: right;\n    }\n</style>\n<table border=\"1\" class=\"dataframe\">\n  <thead>\n    <tr style=\"text-align: right;\">\n      <th></th>\n      <th>beat</th>\n      <th>count</th>\n      <th>years</th>\n    </tr>\n  </thead>\n  <tbody>\n    <tr>\n      <th>0</th>\n      <td>1923</td>\n      <td>7</td>\n      <td>2004</td>\n    </tr>\n    <tr>\n      <th>2957</th>\n      <td>1922</td>\n      <td>3</td>\n      <td>2004</td>\n    </tr>\n    <tr>\n      <th>2966</th>\n      <td>211</td>\n      <td>7</td>\n      <td>2004</td>\n    </tr>\n  </tbody>\n</table>\n</div>"
     },
     "execution_count": 26,
     "metadata": {},
     "output_type": "execute_result"
    }
   ],
   "source": [
    "df2 = df2.drop(columns=['Unnamed: 0'])\n",
    "df2.head(3)"
   ],
   "metadata": {
    "id": "H9IFpLkCSzTi"
   }
  },
  {
   "cell_type": "code",
   "execution_count": 27,
   "outputs": [
    {
     "name": "stdout",
     "output_type": "stream",
     "text": [
      "3540 \n",
      " 885\n"
     ]
    }
   ],
   "source": [
    "y = np.array(df2[\"count\"])\n",
    "X = np.array(df2[['beat', 'years']])\n",
    "X_train, X_test, y_train, y_test = model_selection.train_test_split(X, y, test_size=0.2, random_state=10)\n",
    "print(len(X_train), '\\n', len(X_test))"
   ],
   "metadata": {
    "id": "jXqmT6i1SzTi",
    "outputId": "30bc2761-e965-4ac0-86c1-4fa127ebcbb7"
   }
  },
  {
   "cell_type": "markdown",
   "source": [],
   "metadata": {
    "collapsed": false
   }
  },
  {
   "cell_type": "markdown",
   "source": [
    "Checking out a very simple model first! We are only using standard scaler followed by linear regression"
   ],
   "metadata": {
    "collapsed": false,
    "id": "yxMPzN64SzTj"
   }
  },
  {
   "cell_type": "code",
   "execution_count": 28,
   "outputs": [
    {
     "data": {
      "text/plain": "-144787.3818380805"
     },
     "execution_count": 28,
     "metadata": {},
     "output_type": "execute_result"
    }
   ],
   "source": [
    "X_tf = scalerST.fit_transform(X_train)\n",
    "regrLinear.fit(X_tf, y_train)\n",
    "metrics.r2_score(y_test, regrLinear.predict(X_test))\n"
   ],
   "metadata": {
    "id": "afhxfrq6SzTj",
    "outputId": "d21b878b-77b1-4e4c-e156-0bf1229b67a7"
   }
  },
  {
   "cell_type": "markdown",
   "source": [
    "This simple model performs VERY poorly. Can we improve?"
   ],
   "metadata": {
    "collapsed": false,
    "id": "sTEXpyHwSzTj"
   }
  },
  {
   "cell_type": "code",
   "execution_count": 29,
   "outputs": [
    {
     "name": "stdout",
     "output_type": "stream",
     "text": [
      "1 / 5\n",
      "2 / 5\n",
      "3 / 5\n",
      "4 / 5\n",
      "5 / 5\n",
      "View of one of the pipelines :\n"
     ]
    },
    {
     "data": {
      "text/plain": "Pipeline(steps=[('scaler',\n                 FeatureUnion(transformer_list=[('std', StandardScaler()),\n                                                ('rb', RobustScaler())])),\n                ('greg', GammaRegressor(alpha=0.01, warm_start=True))])",
      "text/html": "<style>#sk-container-id-1 {color: black;background-color: white;}#sk-container-id-1 pre{padding: 0;}#sk-container-id-1 div.sk-toggleable {background-color: white;}#sk-container-id-1 label.sk-toggleable__label {cursor: pointer;display: block;width: 100%;margin-bottom: 0;padding: 0.3em;box-sizing: border-box;text-align: center;}#sk-container-id-1 label.sk-toggleable__label-arrow:before {content: \"▸\";float: left;margin-right: 0.25em;color: #696969;}#sk-container-id-1 label.sk-toggleable__label-arrow:hover:before {color: black;}#sk-container-id-1 div.sk-estimator:hover label.sk-toggleable__label-arrow:before {color: black;}#sk-container-id-1 div.sk-toggleable__content {max-height: 0;max-width: 0;overflow: hidden;text-align: left;background-color: #f0f8ff;}#sk-container-id-1 div.sk-toggleable__content pre {margin: 0.2em;color: black;border-radius: 0.25em;background-color: #f0f8ff;}#sk-container-id-1 input.sk-toggleable__control:checked~div.sk-toggleable__content {max-height: 200px;max-width: 100%;overflow: auto;}#sk-container-id-1 input.sk-toggleable__control:checked~label.sk-toggleable__label-arrow:before {content: \"▾\";}#sk-container-id-1 div.sk-estimator input.sk-toggleable__control:checked~label.sk-toggleable__label {background-color: #d4ebff;}#sk-container-id-1 div.sk-label input.sk-toggleable__control:checked~label.sk-toggleable__label {background-color: #d4ebff;}#sk-container-id-1 input.sk-hidden--visually {border: 0;clip: rect(1px 1px 1px 1px);clip: rect(1px, 1px, 1px, 1px);height: 1px;margin: -1px;overflow: hidden;padding: 0;position: absolute;width: 1px;}#sk-container-id-1 div.sk-estimator {font-family: monospace;background-color: #f0f8ff;border: 1px dotted black;border-radius: 0.25em;box-sizing: border-box;margin-bottom: 0.5em;}#sk-container-id-1 div.sk-estimator:hover {background-color: #d4ebff;}#sk-container-id-1 div.sk-parallel-item::after {content: \"\";width: 100%;border-bottom: 1px solid gray;flex-grow: 1;}#sk-container-id-1 div.sk-label:hover label.sk-toggleable__label {background-color: #d4ebff;}#sk-container-id-1 div.sk-serial::before {content: \"\";position: absolute;border-left: 1px solid gray;box-sizing: border-box;top: 0;bottom: 0;left: 50%;z-index: 0;}#sk-container-id-1 div.sk-serial {display: flex;flex-direction: column;align-items: center;background-color: white;padding-right: 0.2em;padding-left: 0.2em;position: relative;}#sk-container-id-1 div.sk-item {position: relative;z-index: 1;}#sk-container-id-1 div.sk-parallel {display: flex;align-items: stretch;justify-content: center;background-color: white;position: relative;}#sk-container-id-1 div.sk-item::before, #sk-container-id-1 div.sk-parallel-item::before {content: \"\";position: absolute;border-left: 1px solid gray;box-sizing: border-box;top: 0;bottom: 0;left: 50%;z-index: -1;}#sk-container-id-1 div.sk-parallel-item {display: flex;flex-direction: column;z-index: 1;position: relative;background-color: white;}#sk-container-id-1 div.sk-parallel-item:first-child::after {align-self: flex-end;width: 50%;}#sk-container-id-1 div.sk-parallel-item:last-child::after {align-self: flex-start;width: 50%;}#sk-container-id-1 div.sk-parallel-item:only-child::after {width: 0;}#sk-container-id-1 div.sk-dashed-wrapped {border: 1px dashed gray;margin: 0 0.4em 0.5em 0.4em;box-sizing: border-box;padding-bottom: 0.4em;background-color: white;}#sk-container-id-1 div.sk-label label {font-family: monospace;font-weight: bold;display: inline-block;line-height: 1.2em;}#sk-container-id-1 div.sk-label-container {text-align: center;}#sk-container-id-1 div.sk-container {/* jupyter's `normalize.less` sets `[hidden] { display: none; }` but bootstrap.min.css set `[hidden] { display: none !important; }` so we also need the `!important` here to be able to override the default hidden behavior on the sphinx rendered scikit-learn.org. See: https://github.com/scikit-learn/scikit-learn/issues/21755 */display: inline-block !important;position: relative;}#sk-container-id-1 div.sk-text-repr-fallback {display: none;}</style><div id=\"sk-container-id-1\" class=\"sk-top-container\"><div class=\"sk-text-repr-fallback\"><pre>Pipeline(steps=[(&#x27;scaler&#x27;,\n                 FeatureUnion(transformer_list=[(&#x27;std&#x27;, StandardScaler()),\n                                                (&#x27;rb&#x27;, RobustScaler())])),\n                (&#x27;greg&#x27;, GammaRegressor(alpha=0.01, warm_start=True))])</pre><b>In a Jupyter environment, please rerun this cell to show the HTML representation or trust the notebook. <br />On GitHub, the HTML representation is unable to render, please try loading this page with nbviewer.org.</b></div><div class=\"sk-container\" hidden><div class=\"sk-item sk-dashed-wrapped\"><div class=\"sk-label-container\"><div class=\"sk-label sk-toggleable\"><input class=\"sk-toggleable__control sk-hidden--visually\" id=\"sk-estimator-id-1\" type=\"checkbox\" ><label for=\"sk-estimator-id-1\" class=\"sk-toggleable__label sk-toggleable__label-arrow\">Pipeline</label><div class=\"sk-toggleable__content\"><pre>Pipeline(steps=[(&#x27;scaler&#x27;,\n                 FeatureUnion(transformer_list=[(&#x27;std&#x27;, StandardScaler()),\n                                                (&#x27;rb&#x27;, RobustScaler())])),\n                (&#x27;greg&#x27;, GammaRegressor(alpha=0.01, warm_start=True))])</pre></div></div></div><div class=\"sk-serial\"><div class=\"sk-item sk-dashed-wrapped\"><div class=\"sk-label-container\"><div class=\"sk-label sk-toggleable\"><input class=\"sk-toggleable__control sk-hidden--visually\" id=\"sk-estimator-id-2\" type=\"checkbox\" ><label for=\"sk-estimator-id-2\" class=\"sk-toggleable__label sk-toggleable__label-arrow\">scaler: FeatureUnion</label><div class=\"sk-toggleable__content\"><pre>FeatureUnion(transformer_list=[(&#x27;std&#x27;, StandardScaler()),\n                               (&#x27;rb&#x27;, RobustScaler())])</pre></div></div></div><div class=\"sk-parallel\"><div class=\"sk-parallel-item\"><div class=\"sk-item\"><div class=\"sk-label-container\"><div class=\"sk-label sk-toggleable\"><label>std</label></div></div><div class=\"sk-serial\"><div class=\"sk-item\"><div class=\"sk-estimator sk-toggleable\"><input class=\"sk-toggleable__control sk-hidden--visually\" id=\"sk-estimator-id-3\" type=\"checkbox\" ><label for=\"sk-estimator-id-3\" class=\"sk-toggleable__label sk-toggleable__label-arrow\">StandardScaler</label><div class=\"sk-toggleable__content\"><pre>StandardScaler()</pre></div></div></div></div></div></div><div class=\"sk-parallel-item\"><div class=\"sk-item\"><div class=\"sk-label-container\"><div class=\"sk-label sk-toggleable\"><label>rb</label></div></div><div class=\"sk-serial\"><div class=\"sk-item\"><div class=\"sk-estimator sk-toggleable\"><input class=\"sk-toggleable__control sk-hidden--visually\" id=\"sk-estimator-id-4\" type=\"checkbox\" ><label for=\"sk-estimator-id-4\" class=\"sk-toggleable__label sk-toggleable__label-arrow\">RobustScaler</label><div class=\"sk-toggleable__content\"><pre>RobustScaler()</pre></div></div></div></div></div></div></div></div><div class=\"sk-item\"><div class=\"sk-estimator sk-toggleable\"><input class=\"sk-toggleable__control sk-hidden--visually\" id=\"sk-estimator-id-5\" type=\"checkbox\" ><label for=\"sk-estimator-id-5\" class=\"sk-toggleable__label sk-toggleable__label-arrow\">GammaRegressor</label><div class=\"sk-toggleable__content\"><pre>GammaRegressor(alpha=0.01, warm_start=True)</pre></div></div></div></div></div></div></div>"
     },
     "execution_count": 29,
     "metadata": {},
     "output_type": "execute_result"
    }
   ],
   "source": [
    "random.seed(10)\n",
    "\n",
    "pipelines = []\n",
    "models = [('lreg', regrLinear), ('rreg', regrRidge), ('greg', regrGamma), ('sgdreg', regrSGD), ('kreg', regrKernal)]\n",
    "results1 = {\"model\" : [], \"best hparams\": [], \"best score\": [], \"features\": [None]*10}\n",
    "scaling_union = ('scaler', pipeline.FeatureUnion(scalers))\n",
    "params = [{'lreg__positive': [True, False]},\n",
    "          {'rreg__alpha': [0.0001, 0.0005, 0.001, 0.005, 0.01, 0.05, 0.1, 0.5, 1], 'rreg__positive': [True, False]},\n",
    "          {'greg__alpha': [0.0001, 0.0005, 0.001, 0.005, 0.01, 0.05, 0.1, 0.5, 1], 'greg__warm_start': [True, False]},\n",
    "          {'sgdreg__penalty': ['l2', 'l1', 'elasticnet'], 'sgdreg__learning_rate': ['optimal', 'invscaling', 'adaptive'], 'sgdreg__max_iter': [10000]},\n",
    "          {'kreg__alpha': [0.00005, 0.0001, 0.0005, 0.001, 0.005], 'kreg__kernel': [\"rbf\"]}]\n",
    "\n",
    "\n",
    "for i in range(len(models)):\n",
    "    results1[\"model\"].append(models[i][1])\n",
    "    results1[\"model\"].append(models[i][1])\n",
    "    reg1 = pipeline.Pipeline(steps = [scaling_union, models[i]])\n",
    "    reg2 = pipeline.Pipeline(steps =\n",
    "                             [\n",
    "                                 ('imputation', zeroImputer),\n",
    "                                 ('beatyear',\n",
    "                                   compose.ColumnTransformer([('categorical1', preprocessing.OneHotEncoder(), [0, 1])])\n",
    "                                  ),\n",
    "                                 models[i]\n",
    "                             ]\n",
    "    )\n",
    "    grids1 = model_selection.GridSearchCV(reg1, param_grid=params[i], cv = 5)\n",
    "    score2 = model_selection.cross_val_score(reg2, X_train, y_train, cv = 5)\n",
    "    grids1.fit(X_train, y_train)\n",
    "    reg2.fit(X_train, y_train)\n",
    "    best_estimator1 = grids1.best_estimator_\n",
    "    pipelines.append(best_estimator1)\n",
    "    pipelines.append(reg2)\n",
    "    best_estimator1.fit(X_train, y_train)\n",
    "    score1 = metrics.r2_score(y_test, best_estimator1.predict(X_test))\n",
    "    results1[\"best score\"].append(score1)\n",
    "    results1[\"best score\"].append(score2)\n",
    "    results1[\"best hparams\"].append(grids1.best_params_)\n",
    "    results1[\"best hparams\"].append(\"not set\")\n",
    "    print(i+1, '/', len(models))\n",
    "\n",
    "\n",
    "resultdf = pd.DataFrame(results1)\n",
    "print(\"View of one of the pipelines :\")\n",
    "pipelines[4]"
   ],
   "metadata": {
    "id": "5XIWcg3bSzTj",
    "outputId": "e91f8f99-8ea6-4302-fb0f-407f004e6311"
   }
  },
  {
   "cell_type": "code",
   "execution_count": 36,
   "outputs": [
    {
     "data": {
      "text/plain": "10"
     },
     "execution_count": 36,
     "metadata": {},
     "output_type": "execute_result"
    }
   ],
   "source": [
    "len(pipelines)"
   ],
   "metadata": {
    "collapsed": false
   }
  },
  {
   "cell_type": "code",
   "execution_count": 51,
   "outputs": [],
   "source": [
    "def get_counts(est, X_test, y_test, years):\n",
    "    y_pred = pd.DataFrame(est.predict(X_test)).rename(columns={0: 'count'})\n",
    "    y_testdf = pd.DataFrame(y_test).rename(columns = {0: 'count'})\n",
    "\n",
    "    X_testdf = pd.DataFrame(X_test).rename(columns={0: 'side', 1: 'years'})\n",
    "    X_testdf[\"side\"] = X_testdf[\"side\"].apply(lambda x: conversion_dict[x])\n",
    "\n",
    "    df_pred = pd.concat([X_testdf, y_pred], axis=1, join='inner')\n",
    "    df_actual = pd.concat([X_testdf, y_testdf], axis=1, join='inner')\n",
    "\n",
    "    temp_pred = df_pred.groupby(['side', 'years']).agg({'count': ['sum']})\n",
    "    temp_actual = df_actual.groupby(['side', 'years']).agg({'count': ['sum']})\n",
    "\n",
    "    temp_pred.columns = ['sum']\n",
    "    temp_actual.columns = ['sum']\n",
    "\n",
    "    df_pred = temp_pred.reset_index().rename(columns={'sum':'count'})\n",
    "    df_actual = temp_actual.reset_index().rename(columns={'sum':'count'})\n",
    "    score = metrics.r2_score(df_pred['count'], df_actual['count'])\n",
    "    # bar_pred_NS(df_actual, df_pred, f\"pipeline_score_{score}.img\")\n",
    "    return (df_pred, df_actual, years, score)"
   ],
   "metadata": {
    "collapsed": false
   }
  },
  {
   "cell_type": "code",
   "execution_count": 55,
   "outputs": [
    {
     "name": "stdout",
     "output_type": "stream",
     "text": [
      "0\n",
      "1\n",
      "2\n",
      "3\n",
      "4\n",
      "5\n",
      "6\n",
      "7\n",
      "8\n",
      "9\n"
     ]
    },
    {
     "data": {
      "text/plain": "                model                                       best hparams  \\\n0  LinearRegression()                          {'lreg__positive': False}   \n1  LinearRegression()                                            not set   \n2             Ridge()        {'rreg__alpha': 1, 'rreg__positive': False}   \n3             Ridge()                                            not set   \n4    GammaRegressor()    {'greg__alpha': 0.01, 'greg__warm_start': True}   \n5    GammaRegressor()                                            not set   \n6      SGDRegressor()  {'sgdreg__learning_rate': 'adaptive', 'sgdreg_...   \n7      SGDRegressor()                                            not set   \n8       KernelRidge()      {'kreg__alpha': 5e-05, 'kreg__kernel': 'rbf'}   \n9       KernelRidge()                                            not set   \n\n   best score    features  \n0   -0.375190  beat, side  \n1    0.864049  beat, side  \n2   -0.545053  beat, side  \n3    0.866203  beat, side  \n4   -0.464664  beat, side  \n5   -0.958244  beat, side  \n6   -0.541028  beat, side  \n7    0.865435  beat, side  \n8    0.604244  beat, side  \n9    0.867269  beat, side  ",
      "text/html": "<div>\n<style scoped>\n    .dataframe tbody tr th:only-of-type {\n        vertical-align: middle;\n    }\n\n    .dataframe tbody tr th {\n        vertical-align: top;\n    }\n\n    .dataframe thead th {\n        text-align: right;\n    }\n</style>\n<table border=\"1\" class=\"dataframe\">\n  <thead>\n    <tr style=\"text-align: right;\">\n      <th></th>\n      <th>model</th>\n      <th>best hparams</th>\n      <th>best score</th>\n      <th>features</th>\n    </tr>\n  </thead>\n  <tbody>\n    <tr>\n      <th>0</th>\n      <td>LinearRegression()</td>\n      <td>{'lreg__positive': False}</td>\n      <td>-0.375190</td>\n      <td>beat, side</td>\n    </tr>\n    <tr>\n      <th>1</th>\n      <td>LinearRegression()</td>\n      <td>not set</td>\n      <td>0.864049</td>\n      <td>beat, side</td>\n    </tr>\n    <tr>\n      <th>2</th>\n      <td>Ridge()</td>\n      <td>{'rreg__alpha': 1, 'rreg__positive': False}</td>\n      <td>-0.545053</td>\n      <td>beat, side</td>\n    </tr>\n    <tr>\n      <th>3</th>\n      <td>Ridge()</td>\n      <td>not set</td>\n      <td>0.866203</td>\n      <td>beat, side</td>\n    </tr>\n    <tr>\n      <th>4</th>\n      <td>GammaRegressor()</td>\n      <td>{'greg__alpha': 0.01, 'greg__warm_start': True}</td>\n      <td>-0.464664</td>\n      <td>beat, side</td>\n    </tr>\n    <tr>\n      <th>5</th>\n      <td>GammaRegressor()</td>\n      <td>not set</td>\n      <td>-0.958244</td>\n      <td>beat, side</td>\n    </tr>\n    <tr>\n      <th>6</th>\n      <td>SGDRegressor()</td>\n      <td>{'sgdreg__learning_rate': 'adaptive', 'sgdreg_...</td>\n      <td>-0.541028</td>\n      <td>beat, side</td>\n    </tr>\n    <tr>\n      <th>7</th>\n      <td>SGDRegressor()</td>\n      <td>not set</td>\n      <td>0.865435</td>\n      <td>beat, side</td>\n    </tr>\n    <tr>\n      <th>8</th>\n      <td>KernelRidge()</td>\n      <td>{'kreg__alpha': 5e-05, 'kreg__kernel': 'rbf'}</td>\n      <td>0.604244</td>\n      <td>beat, side</td>\n    </tr>\n    <tr>\n      <th>9</th>\n      <td>KernelRidge()</td>\n      <td>not set</td>\n      <td>0.867269</td>\n      <td>beat, side</td>\n    </tr>\n  </tbody>\n</table>\n</div>"
     },
     "execution_count": 55,
     "metadata": {},
     "output_type": "execute_result"
    }
   ],
   "source": [
    "corrected_results = []\n",
    "df_pred, df_actual = None, None\n",
    "for i in range(len(pipelines)):\n",
    "    df_pred, df_actual, years, score = get_counts(pipelines[i], X_test, y_test, years)\n",
    "    corrected_results.append(score)\n",
    "resultdf['best score'] = corrected_results\n",
    "resultdf['features'] = [\"beat, side\"]*10\n",
    "resultdf.to_csv(\"results\\\\result1.csv\")\n",
    "resultdf"
   ],
   "metadata": {
    "collapsed": false
   }
  },
  {
   "cell_type": "code",
   "execution_count": 433,
   "outputs": [
    {
     "name": "stdout",
     "output_type": "stream",
     "text": [
      "Predicted trr report counts per year for beats included in test data using Kernal Ridge\n"
     ]
    },
    {
     "ename": "TypeError",
     "evalue": "'NoneType' object is not subscriptable",
     "output_type": "error",
     "traceback": [
      "\u001B[1;31m---------------------------------------------------------------------------\u001B[0m",
      "\u001B[1;31mTypeError\u001B[0m                                 Traceback (most recent call last)",
      "Cell \u001B[1;32mIn [433], line 2\u001B[0m\n\u001B[0;32m      1\u001B[0m \u001B[38;5;28mprint\u001B[39m(\u001B[38;5;124m\"\u001B[39m\u001B[38;5;124mPredicted trr report counts per year for beats included in test data using Kernal Ridge\u001B[39m\u001B[38;5;124m\"\u001B[39m)\n\u001B[1;32m----> 2\u001B[0m \u001B[43mbarNS\u001B[49m\u001B[43m(\u001B[49m\u001B[43mdf_pred\u001B[49m\u001B[43m,\u001B[49m\u001B[43m \u001B[49m\u001B[43myears\u001B[49m\u001B[43m,\u001B[49m\u001B[43m \u001B[49m\u001B[38;5;124;43m\"\u001B[39;49m\u001B[38;5;124;43mpredicted\u001B[39;49m\u001B[38;5;124;43m\"\u001B[39;49m\u001B[43m)\u001B[49m\n",
      "Cell \u001B[1;32mIn [430], line 5\u001B[0m, in \u001B[0;36mbarNS\u001B[1;34m(df, years, name)\u001B[0m\n\u001B[0;32m      2\u001B[0m barwidth \u001B[38;5;241m=\u001B[39m \u001B[38;5;241m0.3\u001B[39m\n\u001B[0;32m      4\u001B[0m \u001B[38;5;66;03m# years = df[df[\"side\"]=='north'][\"years\"] # same for south\u001B[39;00m\n\u001B[1;32m----> 5\u001B[0m countNorth \u001B[38;5;241m=\u001B[39m df[\u001B[43mdf\u001B[49m\u001B[43m[\u001B[49m\u001B[38;5;124;43m\"\u001B[39;49m\u001B[38;5;124;43mside\u001B[39;49m\u001B[38;5;124;43m\"\u001B[39;49m\u001B[43m]\u001B[49m\u001B[38;5;241m==\u001B[39m\u001B[38;5;124m'\u001B[39m\u001B[38;5;124mnorth\u001B[39m\u001B[38;5;124m'\u001B[39m][\u001B[38;5;124m\"\u001B[39m\u001B[38;5;124mcount\u001B[39m\u001B[38;5;124m\"\u001B[39m]\n\u001B[0;32m      6\u001B[0m countSouth \u001B[38;5;241m=\u001B[39m df[df[\u001B[38;5;124m\"\u001B[39m\u001B[38;5;124mside\u001B[39m\u001B[38;5;124m\"\u001B[39m]\u001B[38;5;241m==\u001B[39m\u001B[38;5;124m'\u001B[39m\u001B[38;5;124msouth\u001B[39m\u001B[38;5;124m'\u001B[39m][\u001B[38;5;124m\"\u001B[39m\u001B[38;5;124mcount\u001B[39m\u001B[38;5;124m\"\u001B[39m]\n\u001B[0;32m      8\u001B[0m r1 \u001B[38;5;241m=\u001B[39m np\u001B[38;5;241m.\u001B[39marange(\u001B[38;5;28mlen\u001B[39m(countNorth))\n",
      "\u001B[1;31mTypeError\u001B[0m: 'NoneType' object is not subscriptable"
     ]
    }
   ],
   "source": [
    "print(\"Predicted trr report counts per year for beats included in test data using Kernal Ridge\")\n",
    "barNS(df_pred, years, \"predicted\")"
   ],
   "metadata": {
    "id": "NnDOUDPfSzTl",
    "outputId": "9f4ee5d6-053a-438e-9ca3-cd721cdbe348"
   }
  },
  {
   "cell_type": "code",
   "execution_count": 167,
   "outputs": [
    {
     "name": "stdout",
     "output_type": "stream",
     "text": [
      "Actual trr counts per year for beats included in test data\n"
     ]
    },
    {
     "data": {
      "text/plain": "<Figure size 1200x300 with 1 Axes>",
      "image/png": "[encoded data removed]"
     },
     "metadata": {},
     "output_type": "display_data"
    }
   ],
   "source": [
    "print(\"Actual trr counts per year for beats included in test data\")\n",
    "barNS(df_actual, years)"
   ],
   "metadata": {
    "id": "I_KYXVkkSzTl",
    "outputId": "a8fc501c-23ad-4de7-c211-34f826937f2a"
   }
  },
  {
   "cell_type": "markdown",
   "source": [
    "<br>"
   ],
   "metadata": {
    "collapsed": false
   }
  },
  {
   "cell_type": "markdown",
   "source": [
    "### Question\n",
    "\n",
    "How can we improve now?"
   ],
   "metadata": {
    "collapsed": false,
    "id": "-U8EQGBcSzTn"
   }
  },
  {
   "cell_type": "markdown",
   "source": [
    "Let us use a bit more information, such as the officer info. We are going to now perform a few more sql queries for that."
   ],
   "metadata": {
    "collapsed": false,
    "id": "WNVlaHqASzTo"
   }
  },
  {
   "cell_type": "code",
   "execution_count": 169,
   "outputs": [
    {
     "name": "stdout",
     "output_type": "stream",
     "text": [
      "1 tables received\n"
     ]
    }
   ],
   "source": [
    "filename = 'console2.sql'\n",
    "_, tables = table_from_file(filename)"
   ],
   "metadata": {
    "collapsed": false
   }
  },
  {
   "cell_type": "code",
   "execution_count": 170,
   "outputs": [
    {
     "data": {
      "text/plain": "'        select * from officer_trr        '"
     },
     "execution_count": 170,
     "metadata": {},
     "output_type": "execute_result"
    }
   ],
   "source": [
    "''.join(tables['t0']['sql'].split('\\n'))"
   ],
   "metadata": {
    "collapsed": false
   }
  },
  {
   "cell_type": "code",
   "execution_count": 171,
   "outputs": [],
   "source": [
    "df3 = tables['t0']['frame']\n",
    "df3.to_csv(\"tables\\\\df3.csv\")"
   ],
   "metadata": {
    "collapsed": false
   }
  },
  {
   "cell_type": "code",
   "execution_count": 186,
   "outputs": [],
   "source": [
    "df3 = pd.read_csv('tables\\\\df3.csv', low_memory = False).drop(columns = 'Unnamed: 0')"
   ],
   "metadata": {
    "collapsed": false
   }
  },
  {
   "cell_type": "code",
   "execution_count": 187,
   "outputs": [
    {
     "data": {
      "text/plain": "    active  allegation_count appointed_date  beat  birth_year  \\\n0      Yes              22.0     1994-07-05  1651      1969.0   \n1  Unknown               0.0     2017-07-17  1135      1985.0   \n\n   civilian_allegation_percentile  civilian_compliment_count  \\\n0                         65.6966                        4.0   \n1                             NaN                        0.0   \n\n   complaint_percentile  current_badge  current_salary  ...   race  \\\n0               81.8922         7381.0         93354.0  ...  Black   \n1                   NaN         7970.0         48078.0  ...  White   \n\n             rank resignation_date  suffix_name  sustained_count  tags  \\\n0  Police Officer              NaN          NaN              2.0    []   \n1  Police Officer              NaN          NaN              0.0    []   \n\n   trr_count trr_percentile  unsustained_count  years  \n0        3.0        56.6663               15.0   2016  \n1        0.0            NaN                0.0   2018  \n\n[2 rows x 32 columns]",
      "text/html": "<div>\n<style scoped>\n    .dataframe tbody tr th:only-of-type {\n        vertical-align: middle;\n    }\n\n    .dataframe tbody tr th {\n        vertical-align: top;\n    }\n\n    .dataframe thead th {\n        text-align: right;\n    }\n</style>\n<table border=\"1\" class=\"dataframe\">\n  <thead>\n    <tr style=\"text-align: right;\">\n      <th></th>\n      <th>active</th>\n      <th>allegation_count</th>\n      <th>appointed_date</th>\n      <th>beat</th>\n      <th>birth_year</th>\n      <th>civilian_allegation_percentile</th>\n      <th>civilian_compliment_count</th>\n      <th>complaint_percentile</th>\n      <th>current_badge</th>\n      <th>current_salary</th>\n      <th>...</th>\n      <th>race</th>\n      <th>rank</th>\n      <th>resignation_date</th>\n      <th>suffix_name</th>\n      <th>sustained_count</th>\n      <th>tags</th>\n      <th>trr_count</th>\n      <th>trr_percentile</th>\n      <th>unsustained_count</th>\n      <th>years</th>\n    </tr>\n  </thead>\n  <tbody>\n    <tr>\n      <th>0</th>\n      <td>Yes</td>\n      <td>22.0</td>\n      <td>1994-07-05</td>\n      <td>1651</td>\n      <td>1969.0</td>\n      <td>65.6966</td>\n      <td>4.0</td>\n      <td>81.8922</td>\n      <td>7381.0</td>\n      <td>93354.0</td>\n      <td>...</td>\n      <td>Black</td>\n      <td>Police Officer</td>\n      <td>NaN</td>\n      <td>NaN</td>\n      <td>2.0</td>\n      <td>[]</td>\n      <td>3.0</td>\n      <td>56.6663</td>\n      <td>15.0</td>\n      <td>2016</td>\n    </tr>\n    <tr>\n      <th>1</th>\n      <td>Unknown</td>\n      <td>0.0</td>\n      <td>2017-07-17</td>\n      <td>1135</td>\n      <td>1985.0</td>\n      <td>NaN</td>\n      <td>0.0</td>\n      <td>NaN</td>\n      <td>7970.0</td>\n      <td>48078.0</td>\n      <td>...</td>\n      <td>White</td>\n      <td>Police Officer</td>\n      <td>NaN</td>\n      <td>NaN</td>\n      <td>0.0</td>\n      <td>[]</td>\n      <td>0.0</td>\n      <td>NaN</td>\n      <td>0.0</td>\n      <td>2018</td>\n    </tr>\n  </tbody>\n</table>\n<p>2 rows × 32 columns</p>\n</div>"
     },
     "execution_count": 187,
     "metadata": {},
     "output_type": "execute_result"
    }
   ],
   "source": [
    "df3.head(2)"
   ],
   "metadata": {
    "collapsed": false
   }
  },
  {
   "cell_type": "code",
   "execution_count": 188,
   "outputs": [
    {
     "name": "stdout",
     "output_type": "stream",
     "text": [
      "Originallly 30 columns\n",
      "Dropped to 10 columns by 85% rule\n",
      "['active', 'beat', 'birth_year', 'current_badge', 'first_name', 'gender', 'last_name', 'race', 'tags', 'years']\n"
     ]
    }
   ],
   "source": [
    "df3 = df3.drop(columns=['appointed_date', 'id'])\n",
    "\n",
    "\n",
    "\n",
    "# if 85% missing, drop column\n",
    "columns_remaining = remove_missing(df3)\n",
    "df3 = df3[columns_remaining]\n",
    "\n",
    "# tags is only empty list therefore, drop\n",
    "df3 = df3.drop(columns = 'tags')"
   ],
   "metadata": {
    "collapsed": false
   }
  },
  {
   "cell_type": "markdown",
   "source": [
    "### Cleaning"
   ],
   "metadata": {
    "collapsed": false
   }
  },
  {
   "cell_type": "code",
   "execution_count": 189,
   "outputs": [
    {
     "name": "stdout",
     "output_type": "stream",
     "text": [
      "ndarray shape:  (83781, 10)\n"
     ]
    }
   ],
   "source": [
    "# some of the beats in trr_trr are incorrect and are not represented in the data_area. We could either drop the rows with beats or use Nearest neighbours to fill them with the most likely beat in data_area.\n",
    "\n",
    "beats = df3['beat']\n",
    "df3['beat'] = kneighbours(beats)\n",
    "\n",
    "# adding a side column using the converter\n",
    "df3[\"side\"] = df3[\"beat\"].apply(lambda x: conversion_dict[x])\n",
    "df3_north, df3_south = df3[df3['side'] == 'north'], df3[df3['side'] == 'south']\n",
    "\n",
    "# convert to numpy array for further computations\n",
    "dataset3 = df3.to_dict('split')\n",
    "data3 = np.array(dataset3['data'], dtype = 'object')\n",
    "print(\"ndarray shape: \", data3.shape)\n"
   ],
   "metadata": {
    "collapsed": false
   }
  },
  {
   "cell_type": "markdown",
   "source": [
    "We saw earlier when we modelled our question after a regression problem one of the biggest caviats was that our model predicted \"counts\" as a float entity. But counts should be strictly integer. There might be work around for that, but an easier solution would be to take a classification route with an attribute that has smaller domain than *counts*. So this time we will try to use the \"years\" column as our classification target. We would have 17 distinct target labels in this case. Once we predict the year, we can count the number of trr incidents predicted for a particular year."
   ],
   "metadata": {
    "collapsed": false
   }
  },
  {
   "cell_type": "code",
   "execution_count": 192,
   "outputs": [
    {
     "name": "stdout",
     "output_type": "stream",
     "text": [
      "Data and target shape:  (83781, 9) (83781,)\n",
      "Train and test data shape: (67024, 9) (16757, 9)\n",
      "Train and test target length 67024 16757\n"
     ]
    }
   ],
   "source": [
    "# data and target\n",
    "years_idx = dataset3['columns'].index('years')\n",
    "cols_idx = list(np.arange(len(dataset3['columns'])))\n",
    "cols_idx.remove(years_idx)\n",
    "\n",
    "X, y = np.array(data3[:, cols_idx]), np.array(data3[:, years_idx])\n",
    "print(\"Data and target shape: \", X.shape, y.shape)\n",
    "X_ = zeroImputer.fit_transform(X)\n",
    "y_ = zeroImputer.fit_transform(y.reshape(-1,1))\n",
    "y_ = list(y_.reshape(1,-1)[0])\n",
    "\n",
    "X_train, X_test, y_train, y_test = model_selection.train_test_split(X_, y_, test_size=0.20, random_state=0)\n",
    "print(\"Train and test data shape:\", X_train.shape, X_test.shape)\n",
    "print(\"Train and test target length\", len(y_train), len(y_test))\n",
    "\n",
    "# birth year to integer\n",
    "by_col = dataset3['columns'].index('birth_year')\n",
    "bdg_num = dataset3['columns'].index('current_badge')\n",
    "X_train[:, [by_col, bdg_num]] = X_train[:, [by_col, bdg_num]].astype(int)\n",
    "X_test[:, [by_col, bdg_num]] = X_test[:, [by_col, bdg_num]].astype(int)"
   ],
   "metadata": {
    "collapsed": false
   }
  },
  {
   "cell_type": "markdown",
   "source": [
    "### Baseline"
   ],
   "metadata": {
    "collapsed": false
   }
  },
  {
   "cell_type": "code",
   "execution_count": 197,
   "outputs": [
    {
     "name": "stdout",
     "output_type": "stream",
     "text": [
      "done\n"
     ]
    }
   ],
   "source": [
    "# column transform\n",
    "col_transformers = compose.ColumnTransformer([\n",
    "    ('ordinal1', preprocessing.OrdinalEncoder(), [dataset3['columns'].index('active'), dataset3['columns'].index('gender'), dataset3['columns'].index('race'), -1]),\n",
    "    ('ordinal2', preprocessing.OrdinalEncoder(), [dataset3['columns'].index('beat'), dataset3['columns'].index('birth_year')]),\n",
    "    ('text1', feature_extraction.text.CountVectorizer(), dataset3['columns'].index('first_name')),\n",
    "    ('text2', feature_extraction.text.CountVectorizer(), dataset3['columns'].index('last_name'))\n",
    "])\n",
    "\n",
    "X_train_ = col_transformers.fit_transform(X_train)\n",
    "X_test_ = col_transformers.transform(X_test)\n",
    "print('done')"
   ],
   "metadata": {
    "collapsed": false
   }
  },
  {
   "cell_type": "code",
   "execution_count": 198,
   "outputs": [
    {
     "data": {
      "text/plain": "MultinomialNB()",
      "text/html": "<style>#sk-container-id-4 {color: black;background-color: white;}#sk-container-id-4 pre{padding: 0;}#sk-container-id-4 div.sk-toggleable {background-color: white;}#sk-container-id-4 label.sk-toggleable__label {cursor: pointer;display: block;width: 100%;margin-bottom: 0;padding: 0.3em;box-sizing: border-box;text-align: center;}#sk-container-id-4 label.sk-toggleable__label-arrow:before {content: \"▸\";float: left;margin-right: 0.25em;color: #696969;}#sk-container-id-4 label.sk-toggleable__label-arrow:hover:before {color: black;}#sk-container-id-4 div.sk-estimator:hover label.sk-toggleable__label-arrow:before {color: black;}#sk-container-id-4 div.sk-toggleable__content {max-height: 0;max-width: 0;overflow: hidden;text-align: left;background-color: #f0f8ff;}#sk-container-id-4 div.sk-toggleable__content pre {margin: 0.2em;color: black;border-radius: 0.25em;background-color: #f0f8ff;}#sk-container-id-4 input.sk-toggleable__control:checked~div.sk-toggleable__content {max-height: 200px;max-width: 100%;overflow: auto;}#sk-container-id-4 input.sk-toggleable__control:checked~label.sk-toggleable__label-arrow:before {content: \"▾\";}#sk-container-id-4 div.sk-estimator input.sk-toggleable__control:checked~label.sk-toggleable__label {background-color: #d4ebff;}#sk-container-id-4 div.sk-label input.sk-toggleable__control:checked~label.sk-toggleable__label {background-color: #d4ebff;}#sk-container-id-4 input.sk-hidden--visually {border: 0;clip: rect(1px 1px 1px 1px);clip: rect(1px, 1px, 1px, 1px);height: 1px;margin: -1px;overflow: hidden;padding: 0;position: absolute;width: 1px;}#sk-container-id-4 div.sk-estimator {font-family: monospace;background-color: #f0f8ff;border: 1px dotted black;border-radius: 0.25em;box-sizing: border-box;margin-bottom: 0.5em;}#sk-container-id-4 div.sk-estimator:hover {background-color: #d4ebff;}#sk-container-id-4 div.sk-parallel-item::after {content: \"\";width: 100%;border-bottom: 1px solid gray;flex-grow: 1;}#sk-container-id-4 div.sk-label:hover label.sk-toggleable__label {background-color: #d4ebff;}#sk-container-id-4 div.sk-serial::before {content: \"\";position: absolute;border-left: 1px solid gray;box-sizing: border-box;top: 0;bottom: 0;left: 50%;z-index: 0;}#sk-container-id-4 div.sk-serial {display: flex;flex-direction: column;align-items: center;background-color: white;padding-right: 0.2em;padding-left: 0.2em;position: relative;}#sk-container-id-4 div.sk-item {position: relative;z-index: 1;}#sk-container-id-4 div.sk-parallel {display: flex;align-items: stretch;justify-content: center;background-color: white;position: relative;}#sk-container-id-4 div.sk-item::before, #sk-container-id-4 div.sk-parallel-item::before {content: \"\";position: absolute;border-left: 1px solid gray;box-sizing: border-box;top: 0;bottom: 0;left: 50%;z-index: -1;}#sk-container-id-4 div.sk-parallel-item {display: flex;flex-direction: column;z-index: 1;position: relative;background-color: white;}#sk-container-id-4 div.sk-parallel-item:first-child::after {align-self: flex-end;width: 50%;}#sk-container-id-4 div.sk-parallel-item:last-child::after {align-self: flex-start;width: 50%;}#sk-container-id-4 div.sk-parallel-item:only-child::after {width: 0;}#sk-container-id-4 div.sk-dashed-wrapped {border: 1px dashed gray;margin: 0 0.4em 0.5em 0.4em;box-sizing: border-box;padding-bottom: 0.4em;background-color: white;}#sk-container-id-4 div.sk-label label {font-family: monospace;font-weight: bold;display: inline-block;line-height: 1.2em;}#sk-container-id-4 div.sk-label-container {text-align: center;}#sk-container-id-4 div.sk-container {/* jupyter's `normalize.less` sets `[hidden] { display: none; }` but bootstrap.min.css set `[hidden] { display: none !important; }` so we also need the `!important` here to be able to override the default hidden behavior on the sphinx rendered scikit-learn.org. See: https://github.com/scikit-learn/scikit-learn/issues/21755 */display: inline-block !important;position: relative;}#sk-container-id-4 div.sk-text-repr-fallback {display: none;}</style><div id=\"sk-container-id-4\" class=\"sk-top-container\"><div class=\"sk-text-repr-fallback\"><pre>MultinomialNB()</pre><b>In a Jupyter environment, please rerun this cell to show the HTML representation or trust the notebook. <br />On GitHub, the HTML representation is unable to render, please try loading this page with nbviewer.org.</b></div><div class=\"sk-container\" hidden><div class=\"sk-item\"><div class=\"sk-estimator sk-toggleable\"><input class=\"sk-toggleable__control sk-hidden--visually\" id=\"sk-estimator-id-4\" type=\"checkbox\" checked><label for=\"sk-estimator-id-4\" class=\"sk-toggleable__label sk-toggleable__label-arrow\">MultinomialNB</label><div class=\"sk-toggleable__content\"><pre>MultinomialNB()</pre></div></div></div></div></div>"
     },
     "execution_count": 198,
     "metadata": {},
     "output_type": "execute_result"
    }
   ],
   "source": [
    "from sklearn.naive_bayes import MultinomialNB\n",
    "multinb = MultinomialNB()\n",
    "multinb.fit(X_train_, y_train)\n"
   ],
   "metadata": {
    "collapsed": false
   }
  },
  {
   "cell_type": "code",
   "execution_count": 199,
   "outputs": [
    {
     "data": {
      "text/plain": "0.10079369815599451"
     },
     "execution_count": 199,
     "metadata": {},
     "output_type": "execute_result"
    }
   ],
   "source": [
    "y_pred = multinb.predict(X_test_)\n",
    "metrics.accuracy_score(y_pred, y_test)"
   ],
   "metadata": {
    "collapsed": false
   }
  },
  {
   "cell_type": "code",
   "execution_count": 204,
   "outputs": [
    {
     "data": {
      "text/plain": "  active  beat birth_year current_badge first_name gender last_name      race  \\\n0     No  1134       1959          7276     Donald      M     Banks     Black   \n1     No  1024       1961          8827    Anthony      M    Giella     White   \n2    Yes   132       1983         12468     Gaspar      M    Castro  Hispanic   \n\n    side  years  \n0  north   2013  \n1  north   2008  \n2  south   2004  ",
      "text/html": "<div>\n<style scoped>\n    .dataframe tbody tr th:only-of-type {\n        vertical-align: middle;\n    }\n\n    .dataframe tbody tr th {\n        vertical-align: top;\n    }\n\n    .dataframe thead th {\n        text-align: right;\n    }\n</style>\n<table border=\"1\" class=\"dataframe\">\n  <thead>\n    <tr style=\"text-align: right;\">\n      <th></th>\n      <th>active</th>\n      <th>beat</th>\n      <th>birth_year</th>\n      <th>current_badge</th>\n      <th>first_name</th>\n      <th>gender</th>\n      <th>last_name</th>\n      <th>race</th>\n      <th>side</th>\n      <th>years</th>\n    </tr>\n  </thead>\n  <tbody>\n    <tr>\n      <th>0</th>\n      <td>No</td>\n      <td>1134</td>\n      <td>1959</td>\n      <td>7276</td>\n      <td>Donald</td>\n      <td>M</td>\n      <td>Banks</td>\n      <td>Black</td>\n      <td>north</td>\n      <td>2013</td>\n    </tr>\n    <tr>\n      <th>1</th>\n      <td>No</td>\n      <td>1024</td>\n      <td>1961</td>\n      <td>8827</td>\n      <td>Anthony</td>\n      <td>M</td>\n      <td>Giella</td>\n      <td>White</td>\n      <td>north</td>\n      <td>2008</td>\n    </tr>\n    <tr>\n      <th>2</th>\n      <td>Yes</td>\n      <td>132</td>\n      <td>1983</td>\n      <td>12468</td>\n      <td>Gaspar</td>\n      <td>M</td>\n      <td>Castro</td>\n      <td>Hispanic</td>\n      <td>south</td>\n      <td>2004</td>\n    </tr>\n  </tbody>\n</table>\n</div>"
     },
     "execution_count": 204,
     "metadata": {},
     "output_type": "execute_result"
    }
   ],
   "source": [
    "columns = dataset3['columns'].copy()\n",
    "columns.remove('years')\n",
    "xdf = pd.DataFrame(X_train)\n",
    "ydf = pd.DataFrame(y_train).rename(columns={0: 'years'})\n",
    "ypreddf = pd.DataFrame(y_pred).rename(columns = {0: 'years'})\n",
    "test_df = pd.concat([xdf, ydf ], axis=1, join='inner')\n",
    "pred_df = pd.concat([xdf, ypreddf ], axis=1, join='inner')\n",
    "\n",
    "for i in range(len(columns)):\n",
    "    test_df = test_df.rename(columns={i: columns[i]})\n",
    "    pred_df = pred_df.rename(columns={i: columns[i]})\n",
    "pred_df.head(3)"
   ],
   "metadata": {
    "collapsed": false
   }
  },
  {
   "cell_type": "code",
   "execution_count": 205,
   "outputs": [
    {
     "data": {
      "text/plain": "  active  beat birth_year current_badge first_name gender last_name      race  \\\n0     No  1134       1959          7276     Donald      M     Banks     Black   \n1     No  1024       1961          8827    Anthony      M    Giella     White   \n2    Yes   132       1983         12468     Gaspar      M    Castro  Hispanic   \n\n    side  years  \n0  north   2014  \n1  north   2004  \n2  south   2009  ",
      "text/html": "<div>\n<style scoped>\n    .dataframe tbody tr th:only-of-type {\n        vertical-align: middle;\n    }\n\n    .dataframe tbody tr th {\n        vertical-align: top;\n    }\n\n    .dataframe thead th {\n        text-align: right;\n    }\n</style>\n<table border=\"1\" class=\"dataframe\">\n  <thead>\n    <tr style=\"text-align: right;\">\n      <th></th>\n      <th>active</th>\n      <th>beat</th>\n      <th>birth_year</th>\n      <th>current_badge</th>\n      <th>first_name</th>\n      <th>gender</th>\n      <th>last_name</th>\n      <th>race</th>\n      <th>side</th>\n      <th>years</th>\n    </tr>\n  </thead>\n  <tbody>\n    <tr>\n      <th>0</th>\n      <td>No</td>\n      <td>1134</td>\n      <td>1959</td>\n      <td>7276</td>\n      <td>Donald</td>\n      <td>M</td>\n      <td>Banks</td>\n      <td>Black</td>\n      <td>north</td>\n      <td>2014</td>\n    </tr>\n    <tr>\n      <th>1</th>\n      <td>No</td>\n      <td>1024</td>\n      <td>1961</td>\n      <td>8827</td>\n      <td>Anthony</td>\n      <td>M</td>\n      <td>Giella</td>\n      <td>White</td>\n      <td>north</td>\n      <td>2004</td>\n    </tr>\n    <tr>\n      <th>2</th>\n      <td>Yes</td>\n      <td>132</td>\n      <td>1983</td>\n      <td>12468</td>\n      <td>Gaspar</td>\n      <td>M</td>\n      <td>Castro</td>\n      <td>Hispanic</td>\n      <td>south</td>\n      <td>2009</td>\n    </tr>\n  </tbody>\n</table>\n</div>"
     },
     "execution_count": 205,
     "metadata": {},
     "output_type": "execute_result"
    }
   ],
   "source": [
    "test_df.head(3)"
   ],
   "metadata": {
    "collapsed": false
   }
  },
  {
   "cell_type": "code",
   "execution_count": 206,
   "outputs": [
    {
     "data": {
      "text/plain": "['active',\n 'beat',\n 'birth_year',\n 'current_badge',\n 'first_name',\n 'gender',\n 'last_name',\n 'race',\n 'side']"
     },
     "execution_count": 206,
     "metadata": {},
     "output_type": "execute_result"
    }
   ],
   "source": [
    "columns"
   ],
   "metadata": {
    "collapsed": false
   }
  },
  {
   "cell_type": "code",
   "execution_count": 251,
   "outputs": [],
   "source": [
    "test_df_ = test_df[['side', 'years']]\n",
    "pred_df_ = pred_df[['side', 'years']]\n",
    "count_test = test_df_.groupby(['side', 'years']).size().reset_index(name='count')\n",
    "count_pred = pred_df_.groupby(['side', 'years']).size().reset_index(name='count')"
   ],
   "metadata": {
    "collapsed": false
   }
  },
  {
   "cell_type": "code",
   "execution_count": 252,
   "outputs": [
    {
     "data": {
      "text/plain": "     side  years  count\n0   north   2004   2165\n1   north   2005   2691\n2   north   2006   2471\n3   north   2007   2302\n4   north   2008   2473\n5   north   2009   2623\n6   north   2010   2797\n7   north   2011   2638\n8   north   2012   2383\n9   north   2013   2414\n10  north   2014   2445\n11  north   2015   2232\n12  north   2016   1980\n13  north   2017   1977\n14  north   2018   1579\n15  north   2019   1728\n16  north   2020    622\n17  south   2004   1520\n18  south   2005   1834\n19  south   2006   1647\n20  south   2007   1724\n21  south   2008   1885\n22  south   2009   1997\n23  south   2010   1857\n24  south   2011   2034\n25  south   2012   2261\n26  south   2013   2046\n27  south   2014   2065\n28  south   2015   2014\n29  south   2016   1636\n30  south   2017   1544\n31  south   2018   1359\n32  south   2019   1507\n33  south   2020    574",
      "text/html": "<div>\n<style scoped>\n    .dataframe tbody tr th:only-of-type {\n        vertical-align: middle;\n    }\n\n    .dataframe tbody tr th {\n        vertical-align: top;\n    }\n\n    .dataframe thead th {\n        text-align: right;\n    }\n</style>\n<table border=\"1\" class=\"dataframe\">\n  <thead>\n    <tr style=\"text-align: right;\">\n      <th></th>\n      <th>side</th>\n      <th>years</th>\n      <th>count</th>\n    </tr>\n  </thead>\n  <tbody>\n    <tr>\n      <th>0</th>\n      <td>north</td>\n      <td>2004</td>\n      <td>2165</td>\n    </tr>\n    <tr>\n      <th>1</th>\n      <td>north</td>\n      <td>2005</td>\n      <td>2691</td>\n    </tr>\n    <tr>\n      <th>2</th>\n      <td>north</td>\n      <td>2006</td>\n      <td>2471</td>\n    </tr>\n    <tr>\n      <th>3</th>\n      <td>north</td>\n      <td>2007</td>\n      <td>2302</td>\n    </tr>\n    <tr>\n      <th>4</th>\n      <td>north</td>\n      <td>2008</td>\n      <td>2473</td>\n    </tr>\n    <tr>\n      <th>5</th>\n      <td>north</td>\n      <td>2009</td>\n      <td>2623</td>\n    </tr>\n    <tr>\n      <th>6</th>\n      <td>north</td>\n      <td>2010</td>\n      <td>2797</td>\n    </tr>\n    <tr>\n      <th>7</th>\n      <td>north</td>\n      <td>2011</td>\n      <td>2638</td>\n    </tr>\n    <tr>\n      <th>8</th>\n      <td>north</td>\n      <td>2012</td>\n      <td>2383</td>\n    </tr>\n    <tr>\n      <th>9</th>\n      <td>north</td>\n      <td>2013</td>\n      <td>2414</td>\n    </tr>\n    <tr>\n      <th>10</th>\n      <td>north</td>\n      <td>2014</td>\n      <td>2445</td>\n    </tr>\n    <tr>\n      <th>11</th>\n      <td>north</td>\n      <td>2015</td>\n      <td>2232</td>\n    </tr>\n    <tr>\n      <th>12</th>\n      <td>north</td>\n      <td>2016</td>\n      <td>1980</td>\n    </tr>\n    <tr>\n      <th>13</th>\n      <td>north</td>\n      <td>2017</td>\n      <td>1977</td>\n    </tr>\n    <tr>\n      <th>14</th>\n      <td>north</td>\n      <td>2018</td>\n      <td>1579</td>\n    </tr>\n    <tr>\n      <th>15</th>\n      <td>north</td>\n      <td>2019</td>\n      <td>1728</td>\n    </tr>\n    <tr>\n      <th>16</th>\n      <td>north</td>\n      <td>2020</td>\n      <td>622</td>\n    </tr>\n    <tr>\n      <th>17</th>\n      <td>south</td>\n      <td>2004</td>\n      <td>1520</td>\n    </tr>\n    <tr>\n      <th>18</th>\n      <td>south</td>\n      <td>2005</td>\n      <td>1834</td>\n    </tr>\n    <tr>\n      <th>19</th>\n      <td>south</td>\n      <td>2006</td>\n      <td>1647</td>\n    </tr>\n    <tr>\n      <th>20</th>\n      <td>south</td>\n      <td>2007</td>\n      <td>1724</td>\n    </tr>\n    <tr>\n      <th>21</th>\n      <td>south</td>\n      <td>2008</td>\n      <td>1885</td>\n    </tr>\n    <tr>\n      <th>22</th>\n      <td>south</td>\n      <td>2009</td>\n      <td>1997</td>\n    </tr>\n    <tr>\n      <th>23</th>\n      <td>south</td>\n      <td>2010</td>\n      <td>1857</td>\n    </tr>\n    <tr>\n      <th>24</th>\n      <td>south</td>\n      <td>2011</td>\n      <td>2034</td>\n    </tr>\n    <tr>\n      <th>25</th>\n      <td>south</td>\n      <td>2012</td>\n      <td>2261</td>\n    </tr>\n    <tr>\n      <th>26</th>\n      <td>south</td>\n      <td>2013</td>\n      <td>2046</td>\n    </tr>\n    <tr>\n      <th>27</th>\n      <td>south</td>\n      <td>2014</td>\n      <td>2065</td>\n    </tr>\n    <tr>\n      <th>28</th>\n      <td>south</td>\n      <td>2015</td>\n      <td>2014</td>\n    </tr>\n    <tr>\n      <th>29</th>\n      <td>south</td>\n      <td>2016</td>\n      <td>1636</td>\n    </tr>\n    <tr>\n      <th>30</th>\n      <td>south</td>\n      <td>2017</td>\n      <td>1544</td>\n    </tr>\n    <tr>\n      <th>31</th>\n      <td>south</td>\n      <td>2018</td>\n      <td>1359</td>\n    </tr>\n    <tr>\n      <th>32</th>\n      <td>south</td>\n      <td>2019</td>\n      <td>1507</td>\n    </tr>\n    <tr>\n      <th>33</th>\n      <td>south</td>\n      <td>2020</td>\n      <td>574</td>\n    </tr>\n  </tbody>\n</table>\n</div>"
     },
     "execution_count": 252,
     "metadata": {},
     "output_type": "execute_result"
    }
   ],
   "source": [
    "count_test"
   ],
   "metadata": {
    "collapsed": false
   }
  },
  {
   "cell_type": "code",
   "execution_count": 253,
   "outputs": [
    {
     "data": {
      "text/plain": "     side  years  count\n0   north   2004    322\n1   north   2005   2168\n2   north   2006    497\n3   north   2007    128\n4   north   2008    240\n5   north   2009    397\n6   north   2010    590\n7   north   2011    322\n8   north   2012    300\n9   north   2013    254\n10  north   2014    406\n11  north   2015    448\n12  north   2016    186\n13  north   2017    157\n14  north   2018    419\n15  north   2019   2425\n16  north   2020    151\n17  south   2004    236\n18  south   2005   1722\n19  south   2006    327\n20  south   2007    106\n21  south   2008    192\n22  south   2009    259\n23  south   2010    492\n24  south   2011    244\n25  south   2012    222\n26  south   2013    187\n27  south   2014    293\n28  south   2015    369\n29  south   2016    154\n30  south   2017    150\n31  south   2018    315\n32  south   2019   1962\n33  south   2020    117",
      "text/html": "<div>\n<style scoped>\n    .dataframe tbody tr th:only-of-type {\n        vertical-align: middle;\n    }\n\n    .dataframe tbody tr th {\n        vertical-align: top;\n    }\n\n    .dataframe thead th {\n        text-align: right;\n    }\n</style>\n<table border=\"1\" class=\"dataframe\">\n  <thead>\n    <tr style=\"text-align: right;\">\n      <th></th>\n      <th>side</th>\n      <th>years</th>\n      <th>count</th>\n    </tr>\n  </thead>\n  <tbody>\n    <tr>\n      <th>0</th>\n      <td>north</td>\n      <td>2004</td>\n      <td>322</td>\n    </tr>\n    <tr>\n      <th>1</th>\n      <td>north</td>\n      <td>2005</td>\n      <td>2168</td>\n    </tr>\n    <tr>\n      <th>2</th>\n      <td>north</td>\n      <td>2006</td>\n      <td>497</td>\n    </tr>\n    <tr>\n      <th>3</th>\n      <td>north</td>\n      <td>2007</td>\n      <td>128</td>\n    </tr>\n    <tr>\n      <th>4</th>\n      <td>north</td>\n      <td>2008</td>\n      <td>240</td>\n    </tr>\n    <tr>\n      <th>5</th>\n      <td>north</td>\n      <td>2009</td>\n      <td>397</td>\n    </tr>\n    <tr>\n      <th>6</th>\n      <td>north</td>\n      <td>2010</td>\n      <td>590</td>\n    </tr>\n    <tr>\n      <th>7</th>\n      <td>north</td>\n      <td>2011</td>\n      <td>322</td>\n    </tr>\n    <tr>\n      <th>8</th>\n      <td>north</td>\n      <td>2012</td>\n      <td>300</td>\n    </tr>\n    <tr>\n      <th>9</th>\n      <td>north</td>\n      <td>2013</td>\n      <td>254</td>\n    </tr>\n    <tr>\n      <th>10</th>\n      <td>north</td>\n      <td>2014</td>\n      <td>406</td>\n    </tr>\n    <tr>\n      <th>11</th>\n      <td>north</td>\n      <td>2015</td>\n      <td>448</td>\n    </tr>\n    <tr>\n      <th>12</th>\n      <td>north</td>\n      <td>2016</td>\n      <td>186</td>\n    </tr>\n    <tr>\n      <th>13</th>\n      <td>north</td>\n      <td>2017</td>\n      <td>157</td>\n    </tr>\n    <tr>\n      <th>14</th>\n      <td>north</td>\n      <td>2018</td>\n      <td>419</td>\n    </tr>\n    <tr>\n      <th>15</th>\n      <td>north</td>\n      <td>2019</td>\n      <td>2425</td>\n    </tr>\n    <tr>\n      <th>16</th>\n      <td>north</td>\n      <td>2020</td>\n      <td>151</td>\n    </tr>\n    <tr>\n      <th>17</th>\n      <td>south</td>\n      <td>2004</td>\n      <td>236</td>\n    </tr>\n    <tr>\n      <th>18</th>\n      <td>south</td>\n      <td>2005</td>\n      <td>1722</td>\n    </tr>\n    <tr>\n      <th>19</th>\n      <td>south</td>\n      <td>2006</td>\n      <td>327</td>\n    </tr>\n    <tr>\n      <th>20</th>\n      <td>south</td>\n      <td>2007</td>\n      <td>106</td>\n    </tr>\n    <tr>\n      <th>21</th>\n      <td>south</td>\n      <td>2008</td>\n      <td>192</td>\n    </tr>\n    <tr>\n      <th>22</th>\n      <td>south</td>\n      <td>2009</td>\n      <td>259</td>\n    </tr>\n    <tr>\n      <th>23</th>\n      <td>south</td>\n      <td>2010</td>\n      <td>492</td>\n    </tr>\n    <tr>\n      <th>24</th>\n      <td>south</td>\n      <td>2011</td>\n      <td>244</td>\n    </tr>\n    <tr>\n      <th>25</th>\n      <td>south</td>\n      <td>2012</td>\n      <td>222</td>\n    </tr>\n    <tr>\n      <th>26</th>\n      <td>south</td>\n      <td>2013</td>\n      <td>187</td>\n    </tr>\n    <tr>\n      <th>27</th>\n      <td>south</td>\n      <td>2014</td>\n      <td>293</td>\n    </tr>\n    <tr>\n      <th>28</th>\n      <td>south</td>\n      <td>2015</td>\n      <td>369</td>\n    </tr>\n    <tr>\n      <th>29</th>\n      <td>south</td>\n      <td>2016</td>\n      <td>154</td>\n    </tr>\n    <tr>\n      <th>30</th>\n      <td>south</td>\n      <td>2017</td>\n      <td>150</td>\n    </tr>\n    <tr>\n      <th>31</th>\n      <td>south</td>\n      <td>2018</td>\n      <td>315</td>\n    </tr>\n    <tr>\n      <th>32</th>\n      <td>south</td>\n      <td>2019</td>\n      <td>1962</td>\n    </tr>\n    <tr>\n      <th>33</th>\n      <td>south</td>\n      <td>2020</td>\n      <td>117</td>\n    </tr>\n  </tbody>\n</table>\n</div>"
     },
     "execution_count": 253,
     "metadata": {},
     "output_type": "execute_result"
    }
   ],
   "source": [
    "count_pred"
   ],
   "metadata": {
    "collapsed": false
   }
  },
  {
   "cell_type": "code",
   "execution_count": 255,
   "outputs": [
    {
     "data": {
      "text/plain": "-9.669971014639108"
     },
     "execution_count": 255,
     "metadata": {},
     "output_type": "execute_result"
    }
   ],
   "source": [
    "metrics.r2_score(count_test['count'], count_pred['count'])"
   ],
   "metadata": {
    "collapsed": false
   }
  },
  {
   "cell_type": "markdown",
   "source": [
    "## Now applying this in a pipeline and doing finetuning"
   ],
   "metadata": {
    "collapsed": false
   }
  },
  {
   "cell_type": "code",
   "execution_count": null,
   "outputs": [],
   "source": [
    "imputing_union = pipeline.FeatureUnion(imputers)\n",
    "col_transformers = compose.ColumnTransformer([\n",
    "    ('ordinal1', preprocessing.OrdinalEncoder(), [dataset3['columns'].index('active'), dataset3['columns'].index('gender'), dataset3['columns'].index('race'), -1]),\n",
    "    ('ordinal2', preprocessing.OrdinalEncoder(), [dataset3['columns'].index('beat'), dataset3['columns'].index('birth_year')]),\n",
    "    ('text1', feature_extraction.text.CountVectorizer(), dataset3['columns'].index('first_name')),\n",
    "    ('text2', feature_extraction.text.CountVectorizer(), dataset3['columns'].index('last_name'))\n",
    "])\n",
    "incrPCA\n"
   ],
   "metadata": {
    "collapsed": false
   }
  }
 ],
 "metadata": {
  "kernelspec": {
   "display_name": "Python 3 (ipykernel)",
   "language": "python",
   "name": "python3"
  },
  "language_info": {
   "codemirror_mode": {
    "name": "ipython",
    "version": 3
   },
   "file_extension": ".py",
   "mimetype": "text/x-python",
   "name": "python",
   "nbconvert_exporter": "python",
   "pygments_lexer": "ipython3",
   "version": "3.10.8"
  },
  "colab": {
   "provenance": []
  }
 },
 "nbformat": 4,
 "nbformat_minor": 0
}
