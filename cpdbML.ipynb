{
 "cells": [
  {
   "cell_type": "code",
   "execution_count": 1,
   "outputs": [],
   "source": [
    "# import psycopg2\n",
    "from sqlalchemy import create_engine\n",
    "import pandas as pd"
   ],
   "metadata": {
    "collapsed": false
   }
  },
  {
   "cell_type": "markdown",
   "source": [
    "# Create a class to create pandas dataframe from SQL queries"
   ],
   "metadata": {
    "collapsed": false
   }
  },
  {
   "cell_type": "code",
   "execution_count": 142,
   "outputs": [],
   "source": [
    "#Read data from JDBC server\n",
    "class DB:\n",
    "    def __init__(self):\n",
    "        self.tables = None\n",
    "        self.df = None\n",
    "        self.point = None\n",
    "        self.POSTGRES_HOST = \"codd03.research.northwestern.edu\"\n",
    "        self.POSTGRES_PORT = 5432\n",
    "        self.POSTGRES_DBNAME = 'cpdb'\n",
    "        self.POSTGRES_USERNAME = 'cpdb_student'\n",
    "        self.POSTGRES_PASSWORD = 'DataSci4Lyfe'\n",
    "        self.postgres_str = ('postgresql://{username}:{password}@{host}:{port}/{dbname}'.format(username=self.POSTGRES_USERNAME,\n",
    "                                                                                           password=self.POSTGRES_PASSWORD,\n",
    "                                                                                           host=self.POSTGRES_HOST,\n",
    "                                                                                           port=self.POSTGRES_PORT,\n",
    "                                                                                           dbname=self.POSTGRES_DBNAME))\n",
    "        self.engine = create_engine(self.postgres_str)\n",
    "\n",
    "    def query(self, queryCommand):\n",
    "            self.point = self.engine.execute(queryCommand)\n",
    "            self.df = None\n",
    "            try: self.df = pd.DataFrame([*self.point.mappings()])\n",
    "            except Exception as msg:\n",
    "                if msg == 'This result object does not return rows. It has been closed automatically.':pass\n",
    "            return self.df\n",
    "\n",
    "    def get_tables_from_commands(self, commands=None):\n",
    "        self.tables = {}\n",
    "        for command in commands:\n",
    "            try:\n",
    "                df = self.query(command)\n",
    "                if df is not None:\n",
    "                    self.tables[f'table_{len(self.tables.keys())}'] = {'frame': df, 'sql': command}\n",
    "            except:\n",
    "                pass\n",
    "        return self.tables\n",
    "\n"
   ],
   "metadata": {
    "collapsed": false
   }
  },
  {
   "cell_type": "code",
   "execution_count": 148,
   "outputs": [
    {
     "name": "stdout",
     "output_type": "stream",
     "text": [
      "Passed!\n"
     ]
    }
   ],
   "source": [
    "# test it out\n",
    "\n",
    "def test():\n",
    "    obj_test = DB()\n",
    "    t = obj_test.get_tables_from_commands\n",
    "\n",
    "    query1 = '''\n",
    "    DROP TABLE if exists area_ids;\n",
    "    CREATE TEMP TABLE area_ids AS\n",
    "        ( SELECT id, name FROM data_area\n",
    "          WHERE area_type='police-districts');\n",
    "    SELECT * FROM area_ids;\n",
    "\n",
    "    -- Determining civilian population of each PD\n",
    "    DROP TABLE IF EXISTS popul_by_pd;\n",
    "    CREATE TEMP TABLE popul_by_pd AS\n",
    "        ( SELECT area_id, SUM(\"count\") population FROM data_racepopulation\n",
    "          WHERE area_id IN (SELECT id FROM area_ids)\n",
    "          group by area_id);\n",
    "    select * from popul_by_pd;\n",
    "    '''\n",
    "\n",
    "    commands = query1.split(';')\n",
    "    tables = t(commands)\n",
    "    if len(tables.keys()) == 2: print(\"Passed!\")\n",
    "    else: print(\"An error occurred\")\n",
    "\n",
    "    del obj_test\n",
    "\n",
    "test()"
   ],
   "metadata": {
    "collapsed": false
   }
  },
  {
   "cell_type": "markdown",
   "source": [
    "# Get all required tables"
   ],
   "metadata": {
    "collapsed": false
   }
  },
  {
   "cell_type": "code",
   "execution_count": 145,
   "outputs": [
    {
     "name": "stdout",
     "output_type": "stream",
     "text": [
      "table_0\n",
      "table_1\n",
      "table_2\n",
      "table_3\n",
      "table_4\n",
      "table_5\n",
      "table_6\n",
      "table_7\n",
      "table_8\n",
      "table_9\n"
     ]
    }
   ],
   "source": [
    "filename = 'C:\\\\Users\\\\KIIT\\\\AppData\\\\Roaming\\\\JetBrains\\\\DataSpell2022.2\\\\consoles\\\\db\\\\04e55ffa-c834-4191-a73f-da9162a9172f\\\\console.sql'\n",
    "\n",
    "with open(filename, 'r') as f:\n",
    "    sqlFile = f.read()\n",
    "commands_raw = sqlFile.split(';')\n",
    "commands = []\n",
    "for command in commands_raw:\n",
    "    q = f'''\n",
    "    {command}\n",
    "    '''\n",
    "    commands.append(q)\n",
    "tables = t(commands)\n",
    "for key in tables.keys(): print(key)\n"
   ],
   "metadata": {
    "collapsed": false
   }
  },
  {
   "cell_type": "code",
   "execution_count": null,
   "outputs": [],
   "source": [],
   "metadata": {
    "collapsed": false
   }
  }
 ],
 "metadata": {
  "kernelspec": {
   "display_name": "Python 3",
   "language": "python",
   "name": "python3"
  },
  "language_info": {
   "codemirror_mode": {
    "name": "ipython",
    "version": 2
   },
   "file_extension": ".py",
   "mimetype": "text/x-python",
   "name": "python",
   "nbconvert_exporter": "python",
   "pygments_lexer": "ipython2",
   "version": "2.7.6"
  }
 },
 "nbformat": 4,
 "nbformat_minor": 0
}
