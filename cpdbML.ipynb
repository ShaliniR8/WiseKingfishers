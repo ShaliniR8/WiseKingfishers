{
 "cells": [
  {
   "cell_type": "code",
   "execution_count": 1,
   "outputs": [],
   "source": [
    "# import psycopg2\n",
    "from sqlalchemy import create_engine\n",
    "import pandas as pd"
   ],
   "metadata": {
    "collapsed": false
   }
  },
  {
   "cell_type": "markdown",
   "source": [
    "# Create a class to create pandas dataframe from SQL queries"
   ],
   "metadata": {
    "collapsed": false
   }
  },
  {
   "cell_type": "code",
   "execution_count": 24,
   "outputs": [],
   "source": [
    "#Read data from JDBC server\n",
    "class DB:\n",
    "    def __init__(self):\n",
    "        self.tables = None\n",
    "        self.df = None\n",
    "        self.point = None\n",
    "        self.POSTGRES_HOST = \"codd03.research.northwestern.edu\"\n",
    "        self.POSTGRES_PORT = 5432\n",
    "        self.POSTGRES_DBNAME = 'cpdb'\n",
    "        self.POSTGRES_USERNAME = 'cpdb_student'\n",
    "        self.POSTGRES_PASSWORD = 'DataSci4Lyfe'\n",
    "        self.postgres_str = ('postgresql://{username}:{password}@{host}:{port}/{dbname}'.format(username=self.POSTGRES_USERNAME,\n",
    "                                                                                           password=self.POSTGRES_PASSWORD,\n",
    "                                                                                           host=self.POSTGRES_HOST,\n",
    "                                                                                           port=self.POSTGRES_PORT,\n",
    "                                                                                           dbname=self.POSTGRES_DBNAME))\n",
    "        self.engine = create_engine(self.postgres_str)\n",
    "\n",
    "    def query(self, queryCommand):\n",
    "            self.point = self.engine.execute(queryCommand)\n",
    "            self.df = None\n",
    "            try: self.df = pd.DataFrame([*self.point.mappings()])\n",
    "            except Exception as msg:\n",
    "                if msg == 'This result object does not return rows. It has been closed automatically.':pass\n",
    "            return self.df\n",
    "\n",
    "    def get_tables_from_commands(self, commands=None):\n",
    "        self.tables = {}\n",
    "        for command in commands:\n",
    "            try:\n",
    "                df = self.query(command)\n",
    "                if df is not None:\n",
    "                    self.tables[f't{len(self.tables.keys())}'] = {'frame': df, 'sql': command}\n",
    "            except:\n",
    "                pass\n",
    "        return self.tables\n",
    "\n"
   ],
   "metadata": {
    "collapsed": false
   }
  },
  {
   "cell_type": "code",
   "execution_count": 25,
   "outputs": [
    {
     "name": "stdout",
     "output_type": "stream",
     "text": [
      "Passed!\n"
     ]
    }
   ],
   "source": [
    "# test it out\n",
    "\n",
    "def test():\n",
    "    obj_test = DB()\n",
    "    t = obj_test.get_tables_from_commands\n",
    "\n",
    "    query1 = '''\n",
    "    DROP TABLE if exists area_ids;\n",
    "    CREATE TEMP TABLE area_ids AS\n",
    "        ( SELECT id, name FROM data_area\n",
    "          WHERE area_type='police-districts');\n",
    "    SELECT * FROM area_ids;\n",
    "\n",
    "    -- Determining civilian population of each PD\n",
    "    DROP TABLE IF EXISTS popul_by_pd;\n",
    "    CREATE TEMP TABLE popul_by_pd AS\n",
    "        ( SELECT area_id, SUM(\"count\") population FROM data_racepopulation\n",
    "          WHERE area_id IN (SELECT id FROM area_ids)\n",
    "          group by area_id);\n",
    "    select * from popul_by_pd;\n",
    "    '''\n",
    "\n",
    "    commands = query1.split(';')\n",
    "    tables = t(commands)\n",
    "    if len(tables.keys()) == 2: print(\"Passed!\")\n",
    "    else: print(\"An error occurred\")\n",
    "\n",
    "    del obj_test\n",
    "\n",
    "test()"
   ],
   "metadata": {
    "collapsed": false
   }
  },
  {
   "cell_type": "markdown",
   "source": [
    "# Get all required tables"
   ],
   "metadata": {
    "collapsed": false
   }
  },
  {
   "cell_type": "code",
   "execution_count": 26,
   "outputs": [],
   "source": [
    "def table_from_file(filename):\n",
    "    obj = DB()\n",
    "    t = obj.get_tables_from_commands\n",
    "    with open(filename, 'r') as f:\n",
    "        sqlFile = f.read()\n",
    "    commands_raw = sqlFile.split(';')\n",
    "    commands = []\n",
    "    for command in commands_raw:\n",
    "        q = f'''\n",
    "        {command}\n",
    "        '''\n",
    "        commands.append(q)\n",
    "    tables = t(commands)\n",
    "    total = len(tables.keys())\n",
    "    print(total, \"tables received\")\n",
    "    del obj\n",
    "    return (total, tables)"
   ],
   "metadata": {
    "collapsed": false
   }
  },
  {
   "cell_type": "markdown",
   "source": [
    "### console1.sql"
   ],
   "metadata": {
    "collapsed": false
   }
  },
  {
   "cell_type": "code",
   "execution_count": 27,
   "outputs": [
    {
     "name": "stdout",
     "output_type": "stream",
     "text": [
      "2 tables received\n"
     ]
    }
   ],
   "source": [
    "filename = 'console1.sql'\n",
    "total, tables = table_from_file(filename)"
   ],
   "metadata": {
    "collapsed": false
   }
  },
  {
   "cell_type": "code",
   "execution_count": 29,
   "outputs": [
    {
     "name": "stdout",
     "output_type": "stream",
     "text": [
      "\n",
      "        \n",
      "\n",
      "select * from data_area_beat\n",
      "        \n"
     ]
    },
    {
     "data": {
      "text/plain": "   name   side\n0  3100  north\n1  1655  north\n2  1613  north\n3  1611  north\n4  1621  north",
      "text/html": "<div>\n<style scoped>\n    .dataframe tbody tr th:only-of-type {\n        vertical-align: middle;\n    }\n\n    .dataframe tbody tr th {\n        vertical-align: top;\n    }\n\n    .dataframe thead th {\n        text-align: right;\n    }\n</style>\n<table border=\"1\" class=\"dataframe\">\n  <thead>\n    <tr style=\"text-align: right;\">\n      <th></th>\n      <th>name</th>\n      <th>side</th>\n    </tr>\n  </thead>\n  <tbody>\n    <tr>\n      <th>0</th>\n      <td>3100</td>\n      <td>north</td>\n    </tr>\n    <tr>\n      <th>1</th>\n      <td>1655</td>\n      <td>north</td>\n    </tr>\n    <tr>\n      <th>2</th>\n      <td>1613</td>\n      <td>north</td>\n    </tr>\n    <tr>\n      <th>3</th>\n      <td>1611</td>\n      <td>north</td>\n    </tr>\n    <tr>\n      <th>4</th>\n      <td>1621</td>\n      <td>north</td>\n    </tr>\n  </tbody>\n</table>\n</div>"
     },
     "execution_count": 29,
     "metadata": {},
     "output_type": "execute_result"
    }
   ],
   "source": [
    "df0 = tables['t0']['frame']\n",
    "q0 = tables['t0']['sql']\n",
    "print(q0)\n",
    "df0.head()\n"
   ],
   "metadata": {
    "collapsed": false
   }
  },
  {
   "cell_type": "code",
   "execution_count": 30,
   "outputs": [
    {
     "name": "stdout",
     "output_type": "stream",
     "text": [
      "\n",
      "        \n",
      "select * from trr_trr\n",
      "         where id is not null\n",
      "           and beat is not null\n",
      "        \n"
     ]
    },
    {
     "data": {
      "text/plain": "   beat  block                       created_at  crid direction event_id  \\\n0   513  110XX 2021-11-22 21:11:10.744429+00:00  None         S     None   \n1   725   14XX 2021-11-22 21:11:10.744429+00:00  None         W     None   \n2  2533   17XX 2021-11-22 21:11:10.744429+00:00  None         N     None   \n3  2533   17XX 2021-11-22 21:11:10.744429+00:00  None         N     None   \n4  1224   17XX 2021-11-22 21:11:10.744429+00:00  None         W     None   \n\n  firearm_used       id indoor_or_outdoor lighting_condition  ...  \\\n0         None   428753           Outdoor           DAYLIGHT  ...   \n1         None  4042119            Indoor         ARTIFICIAL  ...   \n2         None   700207           Outdoor         ARTIFICIAL  ...   \n3         None   700194           Outdoor         ARTIFICIAL  ...   \n4         None   388829           Outdoor           DAYLIGHT  ...   \n\n  subject_gender subject_id subject_injured subject_race taser  \\\n0              M        NaN            None        BLACK  None   \n1              F        NaN            None        BLACK  None   \n2              M        NaN            None        BLACK  None   \n3              M        NaN            None        BLACK  None   \n4              M        NaN            None        BLACK  None   \n\n  total_number_of_shots         trr_created              trr_datetime  \\\n0                   NaN 2018-01-25 04:38:00 2018-01-25 21:11:00+00:00   \n1                   NaN 2019-11-05 07:30:00 2019-11-05 22:42:00+00:00   \n2                   NaN 2018-11-11 02:03:00 2018-11-11 04:00:00+00:00   \n3                   NaN 2018-11-11 01:41:00 2018-11-11 04:00:00+00:00   \n4                   NaN 2017-12-01 04:49:00 2017-12-01 19:50:00+00:00   \n\n                        updated_at  weather_condition  \n0 2021-11-22 21:11:10.744429+00:00              CLEAR  \n1 2021-11-22 21:11:10.744429+00:00              CLOUD  \n2 2021-11-22 21:11:10.744429+00:00              CLEAR  \n3 2021-11-22 21:11:10.744429+00:00              CLEAR  \n4 2021-11-22 21:11:10.744429+00:00              CLEAR  \n\n[5 rows x 43 columns]",
      "text/html": "<div>\n<style scoped>\n    .dataframe tbody tr th:only-of-type {\n        vertical-align: middle;\n    }\n\n    .dataframe tbody tr th {\n        vertical-align: top;\n    }\n\n    .dataframe thead th {\n        text-align: right;\n    }\n</style>\n<table border=\"1\" class=\"dataframe\">\n  <thead>\n    <tr style=\"text-align: right;\">\n      <th></th>\n      <th>beat</th>\n      <th>block</th>\n      <th>created_at</th>\n      <th>crid</th>\n      <th>direction</th>\n      <th>event_id</th>\n      <th>firearm_used</th>\n      <th>id</th>\n      <th>indoor_or_outdoor</th>\n      <th>lighting_condition</th>\n      <th>...</th>\n      <th>subject_gender</th>\n      <th>subject_id</th>\n      <th>subject_injured</th>\n      <th>subject_race</th>\n      <th>taser</th>\n      <th>total_number_of_shots</th>\n      <th>trr_created</th>\n      <th>trr_datetime</th>\n      <th>updated_at</th>\n      <th>weather_condition</th>\n    </tr>\n  </thead>\n  <tbody>\n    <tr>\n      <th>0</th>\n      <td>513</td>\n      <td>110XX</td>\n      <td>2021-11-22 21:11:10.744429+00:00</td>\n      <td>None</td>\n      <td>S</td>\n      <td>None</td>\n      <td>None</td>\n      <td>428753</td>\n      <td>Outdoor</td>\n      <td>DAYLIGHT</td>\n      <td>...</td>\n      <td>M</td>\n      <td>NaN</td>\n      <td>None</td>\n      <td>BLACK</td>\n      <td>None</td>\n      <td>NaN</td>\n      <td>2018-01-25 04:38:00</td>\n      <td>2018-01-25 21:11:00+00:00</td>\n      <td>2021-11-22 21:11:10.744429+00:00</td>\n      <td>CLEAR</td>\n    </tr>\n    <tr>\n      <th>1</th>\n      <td>725</td>\n      <td>14XX</td>\n      <td>2021-11-22 21:11:10.744429+00:00</td>\n      <td>None</td>\n      <td>W</td>\n      <td>None</td>\n      <td>None</td>\n      <td>4042119</td>\n      <td>Indoor</td>\n      <td>ARTIFICIAL</td>\n      <td>...</td>\n      <td>F</td>\n      <td>NaN</td>\n      <td>None</td>\n      <td>BLACK</td>\n      <td>None</td>\n      <td>NaN</td>\n      <td>2019-11-05 07:30:00</td>\n      <td>2019-11-05 22:42:00+00:00</td>\n      <td>2021-11-22 21:11:10.744429+00:00</td>\n      <td>CLOUD</td>\n    </tr>\n    <tr>\n      <th>2</th>\n      <td>2533</td>\n      <td>17XX</td>\n      <td>2021-11-22 21:11:10.744429+00:00</td>\n      <td>None</td>\n      <td>N</td>\n      <td>None</td>\n      <td>None</td>\n      <td>700207</td>\n      <td>Outdoor</td>\n      <td>ARTIFICIAL</td>\n      <td>...</td>\n      <td>M</td>\n      <td>NaN</td>\n      <td>None</td>\n      <td>BLACK</td>\n      <td>None</td>\n      <td>NaN</td>\n      <td>2018-11-11 02:03:00</td>\n      <td>2018-11-11 04:00:00+00:00</td>\n      <td>2021-11-22 21:11:10.744429+00:00</td>\n      <td>CLEAR</td>\n    </tr>\n    <tr>\n      <th>3</th>\n      <td>2533</td>\n      <td>17XX</td>\n      <td>2021-11-22 21:11:10.744429+00:00</td>\n      <td>None</td>\n      <td>N</td>\n      <td>None</td>\n      <td>None</td>\n      <td>700194</td>\n      <td>Outdoor</td>\n      <td>ARTIFICIAL</td>\n      <td>...</td>\n      <td>M</td>\n      <td>NaN</td>\n      <td>None</td>\n      <td>BLACK</td>\n      <td>None</td>\n      <td>NaN</td>\n      <td>2018-11-11 01:41:00</td>\n      <td>2018-11-11 04:00:00+00:00</td>\n      <td>2021-11-22 21:11:10.744429+00:00</td>\n      <td>CLEAR</td>\n    </tr>\n    <tr>\n      <th>4</th>\n      <td>1224</td>\n      <td>17XX</td>\n      <td>2021-11-22 21:11:10.744429+00:00</td>\n      <td>None</td>\n      <td>W</td>\n      <td>None</td>\n      <td>None</td>\n      <td>388829</td>\n      <td>Outdoor</td>\n      <td>DAYLIGHT</td>\n      <td>...</td>\n      <td>M</td>\n      <td>NaN</td>\n      <td>None</td>\n      <td>BLACK</td>\n      <td>None</td>\n      <td>NaN</td>\n      <td>2017-12-01 04:49:00</td>\n      <td>2017-12-01 19:50:00+00:00</td>\n      <td>2021-11-22 21:11:10.744429+00:00</td>\n      <td>CLEAR</td>\n    </tr>\n  </tbody>\n</table>\n<p>5 rows × 43 columns</p>\n</div>"
     },
     "execution_count": 30,
     "metadata": {},
     "output_type": "execute_result"
    }
   ],
   "source": [
    "df1 = tables['t1']['frame']\n",
    "q1 = tables['t1']['sql']\n",
    "print(q1)\n",
    "df1.head()\n"
   ],
   "metadata": {
    "collapsed": false
   }
  },
  {
   "cell_type": "code",
   "execution_count": 38,
   "outputs": [
    {
     "data": {
      "text/plain": "pandas.core.series.Series"
     },
     "execution_count": 38,
     "metadata": {},
     "output_type": "execute_result"
    }
   ],
   "source": [
    "missing = df1.isnull().sum()"
   ],
   "metadata": {
    "collapsed": false
   }
  },
  {
   "cell_type": "code",
   "execution_count": null,
   "outputs": [],
   "source": [
    "# drop columns with 75% data missing\n",
    "\n"
   ],
   "metadata": {
    "collapsed": false
   }
  }
 ],
 "metadata": {
  "kernelspec": {
   "display_name": "Python 3",
   "language": "python",
   "name": "python3"
  },
  "language_info": {
   "codemirror_mode": {
    "name": "ipython",
    "version": 2
   },
   "file_extension": ".py",
   "mimetype": "text/x-python",
   "name": "python",
   "nbconvert_exporter": "python",
   "pygments_lexer": "ipython2",
   "version": "2.7.6"
  }
 },
 "nbformat": 4,
 "nbformat_minor": 0
}
