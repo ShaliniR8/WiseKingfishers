{
 "cells": [
  {
   "cell_type": "code",
   "execution_count": 3,
   "metadata": {},
   "outputs": [],
   "source": [
    "%matplotlib inline\n",
    "from sqlalchemy import create_engine\n",
    "import pandas as pd\n",
    "import matplotlib.pyplot as plt\n",
    "import numpy as np"
   ]
  },
  {
   "cell_type": "code",
   "execution_count": 43,
   "outputs": [],
   "source": [
    "from sklearn import preprocessing\n",
    "from sklearn import linear_model\n",
    "from sklearn import model_selection\n",
    "from sklearn import metrics\n",
    "from sklearn import pipeline"
   ],
   "metadata": {
    "collapsed": false
   }
  },
  {
   "cell_type": "markdown",
   "metadata": {},
   "source": [
    "# Create a class to create pandas dataframe from SQL queries"
   ]
  },
  {
   "cell_type": "code",
   "execution_count": 64,
   "metadata": {},
   "outputs": [],
   "source": [
    "#Read data from JDBC server\n",
    "class DB:\n",
    "    def __init__(self):\n",
    "        self.tables = None\n",
    "        self.df = None\n",
    "        self.point = None\n",
    "        self.POSTGRES_HOST = \"codd03.research.northwestern.edu\"\n",
    "        self.POSTGRES_PORT = 5432\n",
    "        self.POSTGRES_DBNAME = 'cpdb'\n",
    "        self.POSTGRES_USERNAME = 'cpdb_student'\n",
    "        self.POSTGRES_PASSWORD = 'DataSci4Lyfe'\n",
    "        self.postgres_str = ('postgresql://{username}:{password}@{host}:{port}/{dbname}'.format(username=self.POSTGRES_USERNAME,\n",
    "                                                                                           password=self.POSTGRES_PASSWORD,\n",
    "                                                                                           host=self.POSTGRES_HOST,\n",
    "                                                                                           port=self.POSTGRES_PORT,\n",
    "                                                                                           dbname=self.POSTGRES_DBNAME))\n",
    "        self.engine = create_engine(self.postgres_str)\n",
    "\n",
    "    def query(self, queryCommand):\n",
    "            self.point = self.engine.execute(queryCommand)\n",
    "            self.df = None\n",
    "            try: self.df = pd.DataFrame([*self.point.mappings()])\n",
    "            except Exception as msg:\n",
    "                if msg == 'This result object does not return rows. It has been closed automatically.':pass\n",
    "            return self.df\n",
    "\n",
    "    def get_tables_from_commands(self, commands=None):\n",
    "        self.tables = {}\n",
    "        for command in commands:\n",
    "            try:\n",
    "                df = self.query(command)\n",
    "                if df is not None:\n",
    "                    self.tables[f't{len(self.tables.keys())}'] = {'frame': df, 'sql': command}\n",
    "            except:\n",
    "                pass\n",
    "        return self.tables\n",
    "\n"
   ]
  },
  {
   "cell_type": "code",
   "execution_count": 65,
   "metadata": {},
   "outputs": [
    {
     "name": "stdout",
     "output_type": "stream",
     "text": [
      "Passed!\n"
     ]
    }
   ],
   "source": [
    "# test it out\n",
    "\n",
    "def test():\n",
    "    obj_test = DB()\n",
    "    t = obj_test.get_tables_from_commands\n",
    "\n",
    "    query1 = '''\n",
    "    DROP TABLE if exists area_ids;\n",
    "    CREATE TEMP TABLE area_ids AS\n",
    "        ( SELECT id, name FROM data_area\n",
    "          WHERE area_type='police-districts');\n",
    "    SELECT * FROM area_ids;\n",
    "\n",
    "    -- Determining civilian population of each PD\n",
    "    DROP TABLE IF EXISTS popul_by_pd;\n",
    "    CREATE TEMP TABLE popul_by_pd AS\n",
    "        ( SELECT area_id, SUM(\"count\") population FROM data_racepopulation\n",
    "          WHERE area_id IN (SELECT id FROM area_ids)\n",
    "          group by area_id);\n",
    "    select * from popul_by_pd;\n",
    "    '''\n",
    "\n",
    "    commands = query1.split(';')\n",
    "    tables = t(commands)\n",
    "    if len(tables.keys()) == 2: print(\"Passed!\")\n",
    "    else: print(\"An error occurred\")\n",
    "\n",
    "    del obj_test\n",
    "\n",
    "test()"
   ]
  },
  {
   "cell_type": "markdown",
   "source": [
    "<br>"
   ],
   "metadata": {
    "collapsed": false
   }
  },
  {
   "cell_type": "markdown",
   "metadata": {},
   "source": [
    "### Preprocessing helpers"
   ]
  },
  {
   "cell_type": "code",
   "execution_count": 66,
   "metadata": {},
   "outputs": [],
   "source": [
    "# keep columns which have more than 85% missing values\n",
    "def remove_missing(df):\n",
    "    columns = list(df1.columns)\n",
    "    print(f\"Originallly {len(columns)} columns\")\n",
    "    missing = pd.DataFrame(df1.isnull().sum())\n",
    "    missing.reset_index(inplace=True)\n",
    "    missing = missing.rename(columns = {'index':'columns', 0: 'null count'})\n",
    "    missing[\"null count\"] = missing[\"null count\"].apply(lambda x: x*100/len(df1))\n",
    "    remaining_columns = missing[missing[\"null count\"] < 85.0][\"columns\"]\n",
    "    print(f\"Dropped to {len(remaining_columns)} columns\")\n",
    "    print(list(remaining_columns))\n",
    "    return list(remaining_columns)"
   ]
  },
  {
   "cell_type": "code",
   "execution_count": 67,
   "metadata": {},
   "outputs": [],
   "source": [
    "scalerST = preprocessing.StandardScaler()\n",
    "scalerRB = preprocessing.RobustScaler()\n",
    "scalers = [('std', scalerST), ('rb', scalerRB)]"
   ]
  },
  {
   "cell_type": "markdown",
   "source": [
    "### model selection helpers"
   ],
   "metadata": {
    "collapsed": false
   }
  },
  {
   "cell_type": "code",
   "execution_count": 123,
   "outputs": [],
   "source": [
    "# linear models\n",
    "\n",
    "regrLinear = linear_model.LinearRegression()\n",
    "regrRidge = linear_model.Ridge()\n",
    "regrGamma = linear_model.GammaRegressor()\n",
    "\n",
    "models = [ ('lreg', regrLinear), ('rreg', regrRidge), ('greg', regrGamma)]\n"
   ],
   "metadata": {
    "collapsed": false
   }
  },
  {
   "cell_type": "markdown",
   "source": [
    "<br>"
   ],
   "metadata": {
    "collapsed": false
   }
  },
  {
   "cell_type": "markdown",
   "source": [
    "# Get all required tables"
   ],
   "metadata": {
    "collapsed": false
   }
  },
  {
   "cell_type": "code",
   "execution_count": 69,
   "outputs": [],
   "source": [
    "def table_from_file(filename):\n",
    "    obj = DB()\n",
    "    t = obj.get_tables_from_commands\n",
    "    with open(filename, 'r') as f:\n",
    "        sqlFile = f.read()\n",
    "    commands_raw = sqlFile.split(';')\n",
    "    commands = []\n",
    "    for command in commands_raw:\n",
    "        q = f'''\n",
    "        {command}\n",
    "        '''\n",
    "        commands.append(q)\n",
    "    tables = t(commands)\n",
    "    total = len(tables.keys())\n",
    "    print(total, \"tables received\")\n",
    "    del obj\n",
    "    return (total, tables)"
   ],
   "metadata": {
    "collapsed": false
   }
  },
  {
   "cell_type": "markdown",
   "metadata": {},
   "source": [
    "# console1.sql"
   ]
  },
  {
   "cell_type": "code",
   "execution_count": 70,
   "metadata": {},
   "outputs": [
    {
     "name": "stdout",
     "output_type": "stream",
     "text": [
      "3 tables received\n"
     ]
    }
   ],
   "source": [
    "filename = 'console1.sql'\n",
    "total, tables = table_from_file(filename)"
   ]
  },
  {
   "cell_type": "markdown",
   "source": [
    "### Data visualization"
   ],
   "metadata": {
    "collapsed": false
   }
  },
  {
   "cell_type": "code",
   "execution_count": 71,
   "metadata": {},
   "outputs": [
    {
     "name": "stdout",
     "output_type": "stream",
     "text": [
      "          select * from trr_count_by_year_side         \n"
     ]
    }
   ],
   "source": [
    "df0 = tables['t0']['frame']\n",
    "q0 = ' '.join(tables['t0']['sql'].split('\\n'))\n",
    "print(q0)\n",
    "df0.to_csv('tables\\\\df0.csv')"
   ]
  },
  {
   "cell_type": "code",
   "execution_count": 72,
   "metadata": {},
   "outputs": [
    {
     "name": "stdout",
     "output_type": "stream",
     "text": [
      "          select * from trr_count_by_year         \n"
     ]
    }
   ],
   "source": [
    "df1 = tables['t1']['frame']\n",
    "q1 = ' '.join(tables['t1']['sql'].split('\\n'))\n",
    "print(q1)\n",
    "df1.to_csv('tables\\\\df1.csv')"
   ]
  },
  {
   "cell_type": "code",
   "execution_count": 76,
   "outputs": [
    {
     "name": "stdout",
     "output_type": "stream",
     "text": [
      "          select * from trr_count_by_year_beats         \n"
     ]
    }
   ],
   "source": [
    "df2 = tables['t2']['frame']\n",
    "q2 = ' '.join(tables['t2']['sql'].split('\\n'))\n",
    "print(q2)\n",
    "df2.to_csv('tables\\\\df2.csv')"
   ],
   "metadata": {
    "collapsed": false
   }
  },
  {
   "cell_type": "code",
   "execution_count": 73,
   "metadata": {},
   "outputs": [],
   "source": [
    "df0 = pd.read_csv(\"tables\\\\df0.csv\").sort_values(by=\"years\")"
   ]
  },
  {
   "cell_type": "code",
   "execution_count": 74,
   "metadata": {},
   "outputs": [],
   "source": [
    "df1 = pd.read_csv(\"tables\\\\df1.csv\").sort_values(by=\"years\")"
   ]
  },
  {
   "cell_type": "code",
   "execution_count": 77,
   "outputs": [],
   "source": [
    "df2 = pd.read_csv(\"tables\\\\df2.csv\").sort_values(by=\"years\")"
   ],
   "metadata": {
    "collapsed": false
   }
  },
  {
   "cell_type": "markdown",
   "metadata": {},
   "source": [
    "**What is TRR?**\n",
    "TRR is the abbreviation for *Tactical Response Reports*. Usually an event has one complaint with a unique id (CRID) linked to it. But in cases when an event has one or more use of force reports linked to it, it comes under TRR data."
   ]
  },
  {
   "cell_type": "markdown",
   "metadata": {},
   "source": [
    "Let's check out the trr counts from each year. First we'll look at overall trr count yearly, and then we will visualize the trr count by year distinguished by north and south sides."
   ]
  },
  {
   "cell_type": "code",
   "execution_count": 78,
   "metadata": {},
   "outputs": [
    {
     "data": {
      "text/plain": "<Figure size 1000x400 with 1 Axes>",
      "image/png": "[encoded data removed]"
     },
     "metadata": {},
     "output_type": "display_data"
    }
   ],
   "source": [
    "count = list(df1[\"count\"])\n",
    "years = list(df1[\"years\"])\n",
    "\n",
    "plt.figure(figsize=(10,4))\n",
    "plt.plot(years, count)\n",
    "plt.xlabel(\"Year\")\n",
    "plt.ylabel(\"trr report count\")\n",
    "# plt.xticks(np.arange(len(years)), list(years))\n",
    "plt.show()"
   ]
  },
  {
   "cell_type": "code",
   "execution_count": 79,
   "metadata": {},
   "outputs": [
    {
     "data": {
      "text/plain": "<Figure size 1200x400 with 1 Axes>",
      "image/png": "[encoded data removed]"
     },
     "metadata": {},
     "output_type": "display_data"
    }
   ],
   "source": [
    "barwidth = 0.3\n",
    "\n",
    "years = df0[df0[\"side\"]=='north'][\"years\"] # same for south\n",
    "countNorth = df0[df0[\"side\"]=='north'][\"count\"]\n",
    "countSouth = df0[df0[\"side\"]=='south'][\"count\"]\n",
    "\n",
    "r1 = np.arange(len(countNorth))\n",
    "r2 = [x + barwidth for x in r1]\n",
    "\n",
    "fig = plt.subplots(figsize=(12, 4))\n",
    "plt.bar(r1, countNorth, width=barwidth, color='r', edgecolor=\"black\", label=\"north\")\n",
    "plt.bar(r2, countSouth, width=barwidth, color='g', edgecolor=\"black\", label=\"south\")\n",
    "plt.xlabel(\"year\")\n",
    "plt.ylabel(\"trr count\")\n",
    "plt.xticks([r + barwidth for r in range(len(countNorth))], years)\n",
    "plt.legend()\n",
    "plt.show()\n"
   ]
  },
  {
   "cell_type": "markdown",
   "metadata": {},
   "source": [
    "### Observation:\n",
    "It is interesting to note that in all cases multiple cases of complaint reports related to a single event comes usually from the north side. Overall, 2020 has far fewer trr reports. These could be because the data for 2020 is more recent and possibly lacking."
   ]
  },
  {
   "cell_type": "markdown",
   "metadata": {},
   "source": [
    "### Question\n",
    "\n",
    "Can we use this information to create a reliable model that can predict the trr count per year? We are going to use df2 for this part, which contains all the beat names and is categorized according to trr count per year per beat."
   ]
  },
  {
   "cell_type": "code",
   "execution_count": 99,
   "outputs": [
    {
     "data": {
      "text/plain": "      beat  count  years\n0     1923      7   2004\n2957  1922      3   2004\n2966   211      7   2004",
      "text/html": "<div>\n<style scoped>\n    .dataframe tbody tr th:only-of-type {\n        vertical-align: middle;\n    }\n\n    .dataframe tbody tr th {\n        vertical-align: top;\n    }\n\n    .dataframe thead th {\n        text-align: right;\n    }\n</style>\n<table border=\"1\" class=\"dataframe\">\n  <thead>\n    <tr style=\"text-align: right;\">\n      <th></th>\n      <th>beat</th>\n      <th>count</th>\n      <th>years</th>\n    </tr>\n  </thead>\n  <tbody>\n    <tr>\n      <th>0</th>\n      <td>1923</td>\n      <td>7</td>\n      <td>2004</td>\n    </tr>\n    <tr>\n      <th>2957</th>\n      <td>1922</td>\n      <td>3</td>\n      <td>2004</td>\n    </tr>\n    <tr>\n      <th>2966</th>\n      <td>211</td>\n      <td>7</td>\n      <td>2004</td>\n    </tr>\n  </tbody>\n</table>\n</div>"
     },
     "execution_count": 99,
     "metadata": {},
     "output_type": "execute_result"
    }
   ],
   "source": [
    "df2.head(3).drop(columns=['Unnamed: 0'])"
   ],
   "metadata": {
    "collapsed": false
   }
  },
  {
   "cell_type": "code",
   "execution_count": 100,
   "outputs": [
    {
     "name": "stdout",
     "output_type": "stream",
     "text": [
      "3540 \n",
      " 885\n"
     ]
    }
   ],
   "source": [
    "y = np.array(df2[\"count\"])\n",
    "X = np.array(df2[['beat', 'years']])\n",
    "X_train, X_test, y_train, y_test = model_selection.train_test_split(X, y, test_size=0.2)\n",
    "print(len(X_train), '\\n', len(X_test))"
   ],
   "metadata": {
    "collapsed": false
   }
  },
  {
   "cell_type": "code",
   "execution_count": 141,
   "outputs": [
    {
     "data": {
      "text/plain": "array([0.  , 0.15, 0.3 , 0.45, 0.6 , 0.75, 0.9 ])"
     },
     "execution_count": 141,
     "metadata": {},
     "output_type": "execute_result"
    }
   ],
   "source": [],
   "metadata": {
    "collapsed": false
   }
  },
  {
   "cell_type": "markdown",
   "source": [
    "Checking out a very simple model first! We are only using standard scaler followed by linear regression"
   ],
   "metadata": {
    "collapsed": false
   }
  },
  {
   "cell_type": "code",
   "execution_count": 152,
   "outputs": [
    {
     "data": {
      "text/plain": "-150565.71533747594"
     },
     "execution_count": 152,
     "metadata": {},
     "output_type": "execute_result"
    }
   ],
   "source": [
    "X_tf = scalerST.fit_transform(X_train)\n",
    "regrLinear.fit(X_tf, y_train)\n",
    "metrics.r2_score(y_test, regrLinear.predict(X_test))\n"
   ],
   "metadata": {
    "collapsed": false
   }
  },
  {
   "cell_type": "markdown",
   "source": [
    "This simple model performs VERY poorly. Can we improve?"
   ],
   "metadata": {
    "collapsed": false
   }
  },
  {
   "cell_type": "code",
   "execution_count": 154,
   "outputs": [
    {
     "name": "stdout",
     "output_type": "stream",
     "text": [
      "LinearRegression()\n",
      "Best r2 score:  0.026736105500523077\n",
      "Best hyperparameters for this regressor:  {'lreg__positive': False}\n",
      "\n",
      "Ridge()\n",
      "Best r2 score:  0.026492116501215968\n",
      "Best hyperparameters for this regressor:  {'rreg__alpha': 1, 'rreg__positive': False}\n",
      "\n",
      "GammaRegressor()\n",
      "Best r2 score:  0.02170125393715261\n",
      "Best hyperparameters for this regressor:  {'greg__alpha': 0.05, 'greg__warm_start': True}\n",
      "\n"
     ]
    }
   ],
   "source": [
    "pipelines = []\n",
    "scaling_union = ('scaler', pipeline.FeatureUnion(scalers))\n",
    "params = [{'lreg__positive': [True, False]},\n",
    "          {'rreg__alpha': [0.0001, 0.0005, 0.001, 0.005, 0.01, 0.05, 0.1, 0.5, 1], 'rreg__positive': [True, False]},\n",
    "          {'greg__alpha': [0.0001, 0.0005, 0.001, 0.005, 0.01, 0.05, 0.1, 0.5, 1], 'greg__warm_start': [True, False]}]\n",
    "\n",
    "for i in range(len(models)):\n",
    "    print(models[i][1])\n",
    "    reg = pipeline.Pipeline([scaling_union, models[i]])\n",
    "    grids = model_selection.GridSearchCV(reg, param_grid=params[i], cv=5)\n",
    "    grids.fit(X_train, y_train)\n",
    "    best_estimator = grids.best_estimator_\n",
    "    pipelines.append(best_estimator)\n",
    "    best_estimator.fit(X_train, y_train)\n",
    "    score = metrics.r2_score(y_test, best_estimator.predict(X_test))\n",
    "    print(\"Best r2 score: \", score)\n",
    "    print(\"Best hyperparameters for this regressor: \", grids.best_params_)\n",
    "    print()"
   ],
   "metadata": {
    "collapsed": false
   }
  },
  {
   "cell_type": "markdown",
   "source": [
    "A little better than what we had before. We should use the first the linear regression model."
   ],
   "metadata": {
    "collapsed": false
   }
  },
  {
   "cell_type": "markdown",
   "source": [
    "<br>"
   ],
   "metadata": {
    "collapsed": false
   }
  },
  {
   "cell_type": "markdown",
   "source": [
    "### Question\n",
    "\n",
    "How can we improve now?"
   ],
   "metadata": {
    "collapsed": false
   }
  },
  {
   "cell_type": "markdown",
   "source": [
    "Let us use a bit more information, such as the officer history of the officers involved in the trr incidents."
   ],
   "metadata": {
    "collapsed": false
   }
  },
  {
   "cell_type": "code",
   "execution_count": null,
   "outputs": [],
   "source": [],
   "metadata": {
    "collapsed": false
   }
  }
 ],
 "metadata": {
  "kernelspec": {
   "display_name": "Python 3 (ipykernel)",
   "language": "python",
   "name": "python3"
  },
  "language_info": {
   "codemirror_mode": {
    "name": "ipython",
    "version": 3
   },
   "file_extension": ".py",
   "mimetype": "text/x-python",
   "name": "python",
   "nbconvert_exporter": "python",
   "pygments_lexer": "ipython3",
   "version": "3.10.8"
  }
 },
 "nbformat": 4,
 "nbformat_minor": 1
}
